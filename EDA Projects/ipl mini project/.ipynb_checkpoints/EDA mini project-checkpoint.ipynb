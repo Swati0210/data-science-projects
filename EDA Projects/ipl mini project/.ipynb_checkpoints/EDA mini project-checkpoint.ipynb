{
 "cells": [
  {
   "cell_type": "code",
   "execution_count": 1,
   "id": "f4c4a6fb",
   "metadata": {},
   "outputs": [],
   "source": [
    "import pandas as pd \n",
    "import numpy as np \n",
    "import matplotlib.pyplot as plt\n",
    "import seaborn as sns \n",
    "from  plotly.offline import iplot\n",
    "import plotly as py \n",
    "import plotly.tools as tls \n",
    "import cufflinks as cf \n",
    "import plotly.graph_objs as go\n",
    "import plotly.express as px\n",
    "import warnings\n",
    "warnings.filterwarnings('ignore')"
   ]
  },
  {
   "cell_type": "code",
   "execution_count": 2,
   "id": "2a1bc45f",
   "metadata": {},
   "outputs": [
    {
     "data": {
      "text/plain": [
       "'C:\\\\Users\\\\HP\\\\Downloads\\\\DS-ML-IOT\\\\mini project\\\\EDA project'"
      ]
     },
     "execution_count": 2,
     "metadata": {},
     "output_type": "execute_result"
    }
   ],
   "source": [
    "pwd"
   ]
  },
  {
   "cell_type": "code",
   "execution_count": 3,
   "id": "949455e7",
   "metadata": {},
   "outputs": [],
   "source": [
    "ipl_data= pd.read_csv('IPL_Dataset.csv')"
   ]
  },
  {
   "cell_type": "code",
   "execution_count": 4,
   "id": "72dc9f9a",
   "metadata": {},
   "outputs": [
    {
     "data": {
      "text/html": [
       "<div>\n",
       "<style scoped>\n",
       "    .dataframe tbody tr th:only-of-type {\n",
       "        vertical-align: middle;\n",
       "    }\n",
       "\n",
       "    .dataframe tbody tr th {\n",
       "        vertical-align: top;\n",
       "    }\n",
       "\n",
       "    .dataframe thead th {\n",
       "        text-align: right;\n",
       "    }\n",
       "</style>\n",
       "<table border=\"1\" class=\"dataframe\">\n",
       "  <thead>\n",
       "    <tr style=\"text-align: right;\">\n",
       "      <th></th>\n",
       "      <th>POS</th>\n",
       "      <th>Player</th>\n",
       "      <th>Mat</th>\n",
       "      <th>Inns</th>\n",
       "      <th>NO</th>\n",
       "      <th>Runs</th>\n",
       "      <th>HS</th>\n",
       "      <th>Avg</th>\n",
       "      <th>BF</th>\n",
       "      <th>SR</th>\n",
       "      <th>100</th>\n",
       "      <th>50</th>\n",
       "      <th>4s</th>\n",
       "      <th>6s</th>\n",
       "    </tr>\n",
       "  </thead>\n",
       "  <tbody>\n",
       "    <tr>\n",
       "      <th>0</th>\n",
       "      <td>1</td>\n",
       "      <td>KL Rahul</td>\n",
       "      <td>14</td>\n",
       "      <td>14</td>\n",
       "      <td>2</td>\n",
       "      <td>670</td>\n",
       "      <td>132*</td>\n",
       "      <td>55.83</td>\n",
       "      <td>518</td>\n",
       "      <td>129.34</td>\n",
       "      <td>1</td>\n",
       "      <td>5</td>\n",
       "      <td>58</td>\n",
       "      <td>23</td>\n",
       "    </tr>\n",
       "    <tr>\n",
       "      <th>1</th>\n",
       "      <td>2</td>\n",
       "      <td>Shikhar Dhawan</td>\n",
       "      <td>17</td>\n",
       "      <td>17</td>\n",
       "      <td>3</td>\n",
       "      <td>618</td>\n",
       "      <td>106*</td>\n",
       "      <td>44.14</td>\n",
       "      <td>427</td>\n",
       "      <td>144.73</td>\n",
       "      <td>2</td>\n",
       "      <td>4</td>\n",
       "      <td>67</td>\n",
       "      <td>12</td>\n",
       "    </tr>\n",
       "    <tr>\n",
       "      <th>2</th>\n",
       "      <td>3</td>\n",
       "      <td>David Warner</td>\n",
       "      <td>16</td>\n",
       "      <td>16</td>\n",
       "      <td>2</td>\n",
       "      <td>548</td>\n",
       "      <td>85*</td>\n",
       "      <td>39.14</td>\n",
       "      <td>407</td>\n",
       "      <td>134.64</td>\n",
       "      <td>0</td>\n",
       "      <td>4</td>\n",
       "      <td>52</td>\n",
       "      <td>14</td>\n",
       "    </tr>\n",
       "    <tr>\n",
       "      <th>3</th>\n",
       "      <td>4</td>\n",
       "      <td>Shreyas Iyer</td>\n",
       "      <td>17</td>\n",
       "      <td>17</td>\n",
       "      <td>2</td>\n",
       "      <td>519</td>\n",
       "      <td>88*</td>\n",
       "      <td>34.60</td>\n",
       "      <td>421</td>\n",
       "      <td>123.27</td>\n",
       "      <td>0</td>\n",
       "      <td>3</td>\n",
       "      <td>40</td>\n",
       "      <td>16</td>\n",
       "    </tr>\n",
       "    <tr>\n",
       "      <th>4</th>\n",
       "      <td>5</td>\n",
       "      <td>Ishan Kishan</td>\n",
       "      <td>14</td>\n",
       "      <td>13</td>\n",
       "      <td>4</td>\n",
       "      <td>516</td>\n",
       "      <td>99</td>\n",
       "      <td>57.33</td>\n",
       "      <td>354</td>\n",
       "      <td>145.76</td>\n",
       "      <td>0</td>\n",
       "      <td>4</td>\n",
       "      <td>36</td>\n",
       "      <td>30</td>\n",
       "    </tr>\n",
       "    <tr>\n",
       "      <th>...</th>\n",
       "      <td>...</td>\n",
       "      <td>...</td>\n",
       "      <td>...</td>\n",
       "      <td>...</td>\n",
       "      <td>...</td>\n",
       "      <td>...</td>\n",
       "      <td>...</td>\n",
       "      <td>...</td>\n",
       "      <td>...</td>\n",
       "      <td>...</td>\n",
       "      <td>...</td>\n",
       "      <td>...</td>\n",
       "      <td>...</td>\n",
       "      <td>...</td>\n",
       "    </tr>\n",
       "    <tr>\n",
       "      <th>128</th>\n",
       "      <td>129</td>\n",
       "      <td>Khaleel Ahmed</td>\n",
       "      <td>7</td>\n",
       "      <td>1</td>\n",
       "      <td>0</td>\n",
       "      <td>0</td>\n",
       "      <td>0*</td>\n",
       "      <td>0.00</td>\n",
       "      <td>2</td>\n",
       "      <td>0.00</td>\n",
       "      <td>0</td>\n",
       "      <td>0</td>\n",
       "      <td>0</td>\n",
       "      <td>0</td>\n",
       "    </tr>\n",
       "    <tr>\n",
       "      <th>129</th>\n",
       "      <td>130</td>\n",
       "      <td>Arshdeep Singh</td>\n",
       "      <td>8</td>\n",
       "      <td>1</td>\n",
       "      <td>0</td>\n",
       "      <td>0</td>\n",
       "      <td>0*</td>\n",
       "      <td>0.00</td>\n",
       "      <td>3</td>\n",
       "      <td>0.00</td>\n",
       "      <td>0</td>\n",
       "      <td>0</td>\n",
       "      <td>0</td>\n",
       "      <td>0</td>\n",
       "    </tr>\n",
       "    <tr>\n",
       "      <th>130</th>\n",
       "      <td>131</td>\n",
       "      <td>Daniel Sams</td>\n",
       "      <td>3</td>\n",
       "      <td>1</td>\n",
       "      <td>0</td>\n",
       "      <td>0</td>\n",
       "      <td>0*</td>\n",
       "      <td>0.00</td>\n",
       "      <td>2</td>\n",
       "      <td>0.00</td>\n",
       "      <td>0</td>\n",
       "      <td>0</td>\n",
       "      <td>0</td>\n",
       "      <td>0</td>\n",
       "    </tr>\n",
       "    <tr>\n",
       "      <th>131</th>\n",
       "      <td>132</td>\n",
       "      <td>Shreevats Goswami</td>\n",
       "      <td>2</td>\n",
       "      <td>2</td>\n",
       "      <td>0</td>\n",
       "      <td>0</td>\n",
       "      <td>0*</td>\n",
       "      <td>0.00</td>\n",
       "      <td>4</td>\n",
       "      <td>0.00</td>\n",
       "      <td>0</td>\n",
       "      <td>0</td>\n",
       "      <td>0</td>\n",
       "      <td>0</td>\n",
       "    </tr>\n",
       "    <tr>\n",
       "      <th>132</th>\n",
       "      <td>133</td>\n",
       "      <td>Trent Boult</td>\n",
       "      <td>15</td>\n",
       "      <td>1</td>\n",
       "      <td>0</td>\n",
       "      <td>0</td>\n",
       "      <td>0*</td>\n",
       "      <td>0.00</td>\n",
       "      <td>1</td>\n",
       "      <td>0.00</td>\n",
       "      <td>0</td>\n",
       "      <td>0</td>\n",
       "      <td>0</td>\n",
       "      <td>0</td>\n",
       "    </tr>\n",
       "  </tbody>\n",
       "</table>\n",
       "<p>133 rows × 14 columns</p>\n",
       "</div>"
      ],
      "text/plain": [
       "     POS             Player  Mat  Inns  NO  Runs    HS    Avg   BF      SR  \\\n",
       "0      1           KL Rahul   14    14   2   670  132*  55.83  518  129.34   \n",
       "1      2     Shikhar Dhawan   17    17   3   618  106*  44.14  427  144.73   \n",
       "2      3       David Warner   16    16   2   548   85*  39.14  407  134.64   \n",
       "3      4       Shreyas Iyer   17    17   2   519   88*  34.60  421  123.27   \n",
       "4      5       Ishan Kishan   14    13   4   516    99  57.33  354  145.76   \n",
       "..   ...                ...  ...   ...  ..   ...   ...    ...  ...     ...   \n",
       "128  129      Khaleel Ahmed    7     1   0     0    0*   0.00    2    0.00   \n",
       "129  130     Arshdeep Singh    8     1   0     0    0*   0.00    3    0.00   \n",
       "130  131        Daniel Sams    3     1   0     0    0*   0.00    2    0.00   \n",
       "131  132  Shreevats Goswami    2     2   0     0    0*   0.00    4    0.00   \n",
       "132  133        Trent Boult   15     1   0     0    0*   0.00    1    0.00   \n",
       "\n",
       "     100  50  4s  6s  \n",
       "0      1   5  58  23  \n",
       "1      2   4  67  12  \n",
       "2      0   4  52  14  \n",
       "3      0   3  40  16  \n",
       "4      0   4  36  30  \n",
       "..   ...  ..  ..  ..  \n",
       "128    0   0   0   0  \n",
       "129    0   0   0   0  \n",
       "130    0   0   0   0  \n",
       "131    0   0   0   0  \n",
       "132    0   0   0   0  \n",
       "\n",
       "[133 rows x 14 columns]"
      ]
     },
     "execution_count": 4,
     "metadata": {},
     "output_type": "execute_result"
    }
   ],
   "source": [
    "ipl_data"
   ]
  },
  {
   "cell_type": "markdown",
   "id": "04575e51",
   "metadata": {},
   "source": [
    "### Q1. What is the maximum number of matches played by an individual player in a season?"
   ]
  },
  {
   "cell_type": "code",
   "execution_count": 19,
   "id": "eb768002",
   "metadata": {},
   "outputs": [
    {
     "data": {
      "text/plain": [
       "14    22\n",
       "15    10\n",
       "7     10\n",
       "3     10\n",
       "16     9\n",
       "5      9\n",
       "12     8\n",
       "13     7\n",
       "2      7\n",
       "10     6\n",
       "9      6\n",
       "8      6\n",
       "1      6\n",
       "6      5\n",
       "11     5\n",
       "17     4\n",
       "4      3\n",
       "Name: Mat, dtype: int64"
      ]
     },
     "execution_count": 19,
     "metadata": {},
     "output_type": "execute_result"
    }
   ],
   "source": [
    "total_count=ipl_data[\"Mat\"].value_counts()\n",
    "total_count"
   ]
  },
  {
   "cell_type": "code",
   "execution_count": 17,
   "id": "8d579322",
   "metadata": {},
   "outputs": [
    {
     "data": {
      "text/html": [
       "<div>\n",
       "<style scoped>\n",
       "    .dataframe tbody tr th:only-of-type {\n",
       "        vertical-align: middle;\n",
       "    }\n",
       "\n",
       "    .dataframe tbody tr th {\n",
       "        vertical-align: top;\n",
       "    }\n",
       "\n",
       "    .dataframe thead th {\n",
       "        text-align: right;\n",
       "    }\n",
       "</style>\n",
       "<table border=\"1\" class=\"dataframe\">\n",
       "  <thead>\n",
       "    <tr style=\"text-align: right;\">\n",
       "      <th></th>\n",
       "      <th>Player</th>\n",
       "      <th>Mat</th>\n",
       "    </tr>\n",
       "  </thead>\n",
       "  <tbody>\n",
       "    <tr>\n",
       "      <th>1</th>\n",
       "      <td>Shikhar Dhawan</td>\n",
       "      <td>17</td>\n",
       "    </tr>\n",
       "    <tr>\n",
       "      <th>3</th>\n",
       "      <td>Shreyas Iyer</td>\n",
       "      <td>17</td>\n",
       "    </tr>\n",
       "    <tr>\n",
       "      <th>19</th>\n",
       "      <td>Marcus Stoinis</td>\n",
       "      <td>17</td>\n",
       "    </tr>\n",
       "    <tr>\n",
       "      <th>67</th>\n",
       "      <td>Kagiso Rabada</td>\n",
       "      <td>17</td>\n",
       "    </tr>\n",
       "  </tbody>\n",
       "</table>\n",
       "</div>"
      ],
      "text/plain": [
       "            Player  Mat\n",
       "1   Shikhar Dhawan   17\n",
       "3     Shreyas Iyer   17\n",
       "19  Marcus Stoinis   17\n",
       "67   Kagiso Rabada   17"
      ]
     },
     "execution_count": 17,
     "metadata": {},
     "output_type": "execute_result"
    }
   ],
   "source": [
    "ipl_data[['Player','Mat']][ipl_data['Mat']>16]"
   ]
  },
  {
   "cell_type": "markdown",
   "id": "69bce1ed",
   "metadata": {},
   "source": [
    "### Q2. What is the highest average of a player in a season?"
   ]
  },
  {
   "cell_type": "code",
   "execution_count": 36,
   "id": "ccd7d59e",
   "metadata": {},
   "outputs": [
    {
     "data": {
      "text/html": [
       "<div>\n",
       "<style scoped>\n",
       "    .dataframe tbody tr th:only-of-type {\n",
       "        vertical-align: middle;\n",
       "    }\n",
       "\n",
       "    .dataframe tbody tr th {\n",
       "        vertical-align: top;\n",
       "    }\n",
       "\n",
       "    .dataframe thead th {\n",
       "        text-align: right;\n",
       "    }\n",
       "</style>\n",
       "<table border=\"1\" class=\"dataframe\">\n",
       "  <thead>\n",
       "    <tr style=\"text-align: right;\">\n",
       "      <th></th>\n",
       "      <th>POS</th>\n",
       "      <th>Player</th>\n",
       "      <th>Mat</th>\n",
       "      <th>Inns</th>\n",
       "      <th>NO</th>\n",
       "      <th>Runs</th>\n",
       "      <th>HS</th>\n",
       "      <th>Avg</th>\n",
       "      <th>BF</th>\n",
       "      <th>SR</th>\n",
       "      <th>100</th>\n",
       "      <th>50</th>\n",
       "      <th>4s</th>\n",
       "      <th>6s</th>\n",
       "    </tr>\n",
       "  </thead>\n",
       "  <tbody>\n",
       "    <tr>\n",
       "      <th>132</th>\n",
       "      <td>133</td>\n",
       "      <td>Trent Boult</td>\n",
       "      <td>15</td>\n",
       "      <td>1</td>\n",
       "      <td>0</td>\n",
       "      <td>0</td>\n",
       "      <td>0*</td>\n",
       "      <td>0.00</td>\n",
       "      <td>1</td>\n",
       "      <td>0.00</td>\n",
       "      <td>0</td>\n",
       "      <td>0</td>\n",
       "      <td>0</td>\n",
       "      <td>0</td>\n",
       "    </tr>\n",
       "    <tr>\n",
       "      <th>93</th>\n",
       "      <td>94</td>\n",
       "      <td>Imran Tahir</td>\n",
       "      <td>3</td>\n",
       "      <td>1</td>\n",
       "      <td>1</td>\n",
       "      <td>13</td>\n",
       "      <td>13*</td>\n",
       "      <td>0.00</td>\n",
       "      <td>10</td>\n",
       "      <td>130.00</td>\n",
       "      <td>0</td>\n",
       "      <td>0</td>\n",
       "      <td>2</td>\n",
       "      <td>0</td>\n",
       "    </tr>\n",
       "    <tr>\n",
       "      <th>105</th>\n",
       "      <td>106</td>\n",
       "      <td>Pravin Dubey</td>\n",
       "      <td>3</td>\n",
       "      <td>1</td>\n",
       "      <td>1</td>\n",
       "      <td>7</td>\n",
       "      <td>7*</td>\n",
       "      <td>0.00</td>\n",
       "      <td>13</td>\n",
       "      <td>53.84</td>\n",
       "      <td>0</td>\n",
       "      <td>0</td>\n",
       "      <td>0</td>\n",
       "      <td>0</td>\n",
       "    </tr>\n",
       "    <tr>\n",
       "      <th>62</th>\n",
       "      <td>63</td>\n",
       "      <td>Gurkeerat Mann Singh</td>\n",
       "      <td>8</td>\n",
       "      <td>5</td>\n",
       "      <td>5</td>\n",
       "      <td>71</td>\n",
       "      <td>21*</td>\n",
       "      <td>0.00</td>\n",
       "      <td>80</td>\n",
       "      <td>88.75</td>\n",
       "      <td>0</td>\n",
       "      <td>0</td>\n",
       "      <td>8</td>\n",
       "      <td>0</td>\n",
       "    </tr>\n",
       "    <tr>\n",
       "      <th>68</th>\n",
       "      <td>69</td>\n",
       "      <td>Lockie Ferguson</td>\n",
       "      <td>5</td>\n",
       "      <td>2</td>\n",
       "      <td>2</td>\n",
       "      <td>43</td>\n",
       "      <td>24*</td>\n",
       "      <td>0.00</td>\n",
       "      <td>29</td>\n",
       "      <td>148.27</td>\n",
       "      <td>0</td>\n",
       "      <td>0</td>\n",
       "      <td>4</td>\n",
       "      <td>1</td>\n",
       "    </tr>\n",
       "    <tr>\n",
       "      <th>...</th>\n",
       "      <td>...</td>\n",
       "      <td>...</td>\n",
       "      <td>...</td>\n",
       "      <td>...</td>\n",
       "      <td>...</td>\n",
       "      <td>...</td>\n",
       "      <td>...</td>\n",
       "      <td>...</td>\n",
       "      <td>...</td>\n",
       "      <td>...</td>\n",
       "      <td>...</td>\n",
       "      <td>...</td>\n",
       "      <td>...</td>\n",
       "      <td>...</td>\n",
       "    </tr>\n",
       "    <tr>\n",
       "      <th>0</th>\n",
       "      <td>1</td>\n",
       "      <td>KL Rahul</td>\n",
       "      <td>14</td>\n",
       "      <td>14</td>\n",
       "      <td>2</td>\n",
       "      <td>670</td>\n",
       "      <td>132*</td>\n",
       "      <td>55.83</td>\n",
       "      <td>518</td>\n",
       "      <td>129.34</td>\n",
       "      <td>1</td>\n",
       "      <td>5</td>\n",
       "      <td>58</td>\n",
       "      <td>23</td>\n",
       "    </tr>\n",
       "    <tr>\n",
       "      <th>4</th>\n",
       "      <td>5</td>\n",
       "      <td>Ishan Kishan</td>\n",
       "      <td>14</td>\n",
       "      <td>13</td>\n",
       "      <td>4</td>\n",
       "      <td>516</td>\n",
       "      <td>99</td>\n",
       "      <td>57.33</td>\n",
       "      <td>354</td>\n",
       "      <td>145.76</td>\n",
       "      <td>0</td>\n",
       "      <td>4</td>\n",
       "      <td>36</td>\n",
       "      <td>30</td>\n",
       "    </tr>\n",
       "    <tr>\n",
       "      <th>36</th>\n",
       "      <td>37</td>\n",
       "      <td>Wriddhiman Saha</td>\n",
       "      <td>4</td>\n",
       "      <td>4</td>\n",
       "      <td>1</td>\n",
       "      <td>214</td>\n",
       "      <td>87</td>\n",
       "      <td>71.33</td>\n",
       "      <td>153</td>\n",
       "      <td>139.86</td>\n",
       "      <td>0</td>\n",
       "      <td>2</td>\n",
       "      <td>24</td>\n",
       "      <td>5</td>\n",
       "    </tr>\n",
       "    <tr>\n",
       "      <th>60</th>\n",
       "      <td>61</td>\n",
       "      <td>Tom Curran</td>\n",
       "      <td>5</td>\n",
       "      <td>4</td>\n",
       "      <td>3</td>\n",
       "      <td>83</td>\n",
       "      <td>54*</td>\n",
       "      <td>83.00</td>\n",
       "      <td>62</td>\n",
       "      <td>133.87</td>\n",
       "      <td>0</td>\n",
       "      <td>1</td>\n",
       "      <td>5</td>\n",
       "      <td>3</td>\n",
       "    </tr>\n",
       "    <tr>\n",
       "      <th>57</th>\n",
       "      <td>58</td>\n",
       "      <td>Deepak Hooda</td>\n",
       "      <td>7</td>\n",
       "      <td>5</td>\n",
       "      <td>4</td>\n",
       "      <td>101</td>\n",
       "      <td>62*</td>\n",
       "      <td>101.00</td>\n",
       "      <td>71</td>\n",
       "      <td>142.25</td>\n",
       "      <td>0</td>\n",
       "      <td>1</td>\n",
       "      <td>5</td>\n",
       "      <td>5</td>\n",
       "    </tr>\n",
       "  </tbody>\n",
       "</table>\n",
       "<p>133 rows × 14 columns</p>\n",
       "</div>"
      ],
      "text/plain": [
       "     POS                Player  Mat  Inns  NO  Runs    HS     Avg   BF  \\\n",
       "132  133           Trent Boult   15     1   0     0    0*    0.00    1   \n",
       "93    94           Imran Tahir    3     1   1    13   13*    0.00   10   \n",
       "105  106          Pravin Dubey    3     1   1     7    7*    0.00   13   \n",
       "62    63  Gurkeerat Mann Singh    8     5   5    71   21*    0.00   80   \n",
       "68    69       Lockie Ferguson    5     2   2    43   24*    0.00   29   \n",
       "..   ...                   ...  ...   ...  ..   ...   ...     ...  ...   \n",
       "0      1              KL Rahul   14    14   2   670  132*   55.83  518   \n",
       "4      5          Ishan Kishan   14    13   4   516    99   57.33  354   \n",
       "36    37       Wriddhiman Saha    4     4   1   214    87   71.33  153   \n",
       "60    61            Tom Curran    5     4   3    83   54*   83.00   62   \n",
       "57    58          Deepak Hooda    7     5   4   101   62*  101.00   71   \n",
       "\n",
       "         SR  100  50  4s  6s  \n",
       "132    0.00    0   0   0   0  \n",
       "93   130.00    0   0   2   0  \n",
       "105   53.84    0   0   0   0  \n",
       "62    88.75    0   0   8   0  \n",
       "68   148.27    0   0   4   1  \n",
       "..      ...  ...  ..  ..  ..  \n",
       "0    129.34    1   5  58  23  \n",
       "4    145.76    0   4  36  30  \n",
       "36   139.86    0   2  24   5  \n",
       "60   133.87    0   1   5   3  \n",
       "57   142.25    0   1   5   5  \n",
       "\n",
       "[133 rows x 14 columns]"
      ]
     },
     "execution_count": 36,
     "metadata": {},
     "output_type": "execute_result"
    }
   ],
   "source": [
    "sorting= ipl_data.sort_values(by='Avg')\n",
    "sorting"
   ]
  },
  {
   "cell_type": "code",
   "execution_count": 38,
   "id": "915a0996",
   "metadata": {},
   "outputs": [
    {
     "data": {
      "text/html": [
       "<div>\n",
       "<style scoped>\n",
       "    .dataframe tbody tr th:only-of-type {\n",
       "        vertical-align: middle;\n",
       "    }\n",
       "\n",
       "    .dataframe tbody tr th {\n",
       "        vertical-align: top;\n",
       "    }\n",
       "\n",
       "    .dataframe thead th {\n",
       "        text-align: right;\n",
       "    }\n",
       "</style>\n",
       "<table border=\"1\" class=\"dataframe\">\n",
       "  <thead>\n",
       "    <tr style=\"text-align: right;\">\n",
       "      <th></th>\n",
       "      <th>Player</th>\n",
       "      <th>Avg</th>\n",
       "    </tr>\n",
       "  </thead>\n",
       "  <tbody>\n",
       "    <tr>\n",
       "      <th>57</th>\n",
       "      <td>Deepak Hooda</td>\n",
       "      <td>101.0</td>\n",
       "    </tr>\n",
       "  </tbody>\n",
       "</table>\n",
       "</div>"
      ],
      "text/plain": [
       "          Player    Avg\n",
       "57  Deepak Hooda  101.0"
      ]
     },
     "execution_count": 38,
     "metadata": {},
     "output_type": "execute_result"
    }
   ],
   "source": [
    "ipl_data[['Player','Avg']][ipl_data['Avg']>100]"
   ]
  },
  {
   "cell_type": "markdown",
   "id": "d00e82be",
   "metadata": {},
   "source": [
    "### Q3. What is the average number of matches played by the players in a season?"
   ]
  },
  {
   "cell_type": "markdown",
   "id": "068cc201",
   "metadata": {},
   "source": [
    "Individual players average"
   ]
  },
  {
   "cell_type": "code",
   "execution_count": 5,
   "id": "a57e1869",
   "metadata": {},
   "outputs": [],
   "source": [
    "ipl_data['fff']=(ipl_data['Mat']/ipl_data['Mat'].count()).round(2)"
   ]
  },
  {
   "cell_type": "code",
   "execution_count": 6,
   "id": "c653a7ff",
   "metadata": {
    "scrolled": false
   },
   "outputs": [
    {
     "data": {
      "image/png": "[encoded data removed]",
      "text/plain": [
       "<Figure size 2500x3000 with 1 Axes>"
      ]
     },
     "metadata": {},
     "output_type": "display_data"
    }
   ],
   "source": [
    "plt.figure(figsize=(25,30))\n",
    "sns.barplot(x=\"fff\",y=\"Player\",data=ipl_data,color='b',hue='fff')\n",
    "plt.show()"
   ]
  },
  {
   "cell_type": "code",
   "execution_count": 7,
   "id": "6f667d5c",
   "metadata": {},
   "outputs": [
    {
     "data": {
      "text/plain": [
       "0.11    32\n",
       "0.02    17\n",
       "0.05    15\n",
       "0.08    11\n",
       "0.12     9\n",
       "0.04     9\n",
       "0.09     8\n",
       "0.10     7\n",
       "0.06     6\n",
       "0.07     6\n",
       "0.01     6\n",
       "0.13     4\n",
       "0.03     3\n",
       "Name: fff, dtype: int64"
      ]
     },
     "execution_count": 7,
     "metadata": {},
     "output_type": "execute_result"
    }
   ],
   "source": [
    "data1=ipl_data['fff'].value_counts()\n",
    "data1"
   ]
  },
  {
   "cell_type": "code",
   "execution_count": 8,
   "id": "c4fdd02c",
   "metadata": {},
   "outputs": [
    {
     "data": {
      "text/plain": [
       "<AxesSubplot:title={'center':'Average number of matches played by players'}, xlabel='Average match played', ylabel='No of players'>"
      ]
     },
     "execution_count": 8,
     "metadata": {},
     "output_type": "execute_result"
    },
    {
     "data": {
      "image/png": "[encoded data removed]",
      "text/plain": [
       "<Figure size 640x480 with 1 Axes>"
      ]
     },
     "metadata": {},
     "output_type": "display_data"
    }
   ],
   "source": [
    "data1.plot.bar(title=\"Average number of matches played by players\",xlabel='Average match played',ylabel='No of players')"
   ]
  },
  {
   "cell_type": "markdown",
   "id": "f88ba503",
   "metadata": {},
   "source": [
    "Total Average"
   ]
  },
  {
   "cell_type": "code",
   "execution_count": 10,
   "id": "2701382b",
   "metadata": {},
   "outputs": [
    {
     "data": {
      "text/plain": [
       "9.631578947368421"
      ]
     },
     "execution_count": 10,
     "metadata": {},
     "output_type": "execute_result"
    }
   ],
   "source": [
    "ipl_data['Mat'].mean()"
   ]
  },
  {
   "cell_type": "markdown",
   "id": "50311d2b",
   "metadata": {},
   "source": [
    "### Q4. Please check the correlation between all the features."
   ]
  },
  {
   "cell_type": "code",
   "execution_count": 7,
   "id": "c537197c",
   "metadata": {},
   "outputs": [
    {
     "data": {
      "text/plain": [
       "['POS',\n",
       " 'Mat',\n",
       " 'Inns',\n",
       " 'NO',\n",
       " 'Runs',\n",
       " 'Avg',\n",
       " 'BF',\n",
       " 'SR',\n",
       " '100',\n",
       " '50',\n",
       " '4s',\n",
       " '6s']"
      ]
     },
     "execution_count": 7,
     "metadata": {},
     "output_type": "execute_result"
    }
   ],
   "source": [
    "num_col = [fea for fea in ipl_data.columns if ipl_data[fea].dtype !='object']\n",
    "num_col"
   ]
  },
  {
   "cell_type": "code",
   "execution_count": 9,
   "id": "ec04189d",
   "metadata": {},
   "outputs": [
    {
     "data": {
      "text/html": [
       "<div>\n",
       "<style scoped>\n",
       "    .dataframe tbody tr th:only-of-type {\n",
       "        vertical-align: middle;\n",
       "    }\n",
       "\n",
       "    .dataframe tbody tr th {\n",
       "        vertical-align: top;\n",
       "    }\n",
       "\n",
       "    .dataframe thead th {\n",
       "        text-align: right;\n",
       "    }\n",
       "</style>\n",
       "<table border=\"1\" class=\"dataframe\">\n",
       "  <thead>\n",
       "    <tr style=\"text-align: right;\">\n",
       "      <th></th>\n",
       "      <th>POS</th>\n",
       "      <th>Mat</th>\n",
       "      <th>Inns</th>\n",
       "      <th>NO</th>\n",
       "      <th>Runs</th>\n",
       "      <th>Avg</th>\n",
       "      <th>BF</th>\n",
       "      <th>SR</th>\n",
       "      <th>100</th>\n",
       "      <th>50</th>\n",
       "      <th>4s</th>\n",
       "      <th>6s</th>\n",
       "    </tr>\n",
       "  </thead>\n",
       "  <tbody>\n",
       "    <tr>\n",
       "      <th>0</th>\n",
       "      <td>1</td>\n",
       "      <td>14</td>\n",
       "      <td>14</td>\n",
       "      <td>2</td>\n",
       "      <td>670</td>\n",
       "      <td>55.83</td>\n",
       "      <td>518</td>\n",
       "      <td>129.34</td>\n",
       "      <td>1</td>\n",
       "      <td>5</td>\n",
       "      <td>58</td>\n",
       "      <td>23</td>\n",
       "    </tr>\n",
       "    <tr>\n",
       "      <th>1</th>\n",
       "      <td>2</td>\n",
       "      <td>17</td>\n",
       "      <td>17</td>\n",
       "      <td>3</td>\n",
       "      <td>618</td>\n",
       "      <td>44.14</td>\n",
       "      <td>427</td>\n",
       "      <td>144.73</td>\n",
       "      <td>2</td>\n",
       "      <td>4</td>\n",
       "      <td>67</td>\n",
       "      <td>12</td>\n",
       "    </tr>\n",
       "    <tr>\n",
       "      <th>2</th>\n",
       "      <td>3</td>\n",
       "      <td>16</td>\n",
       "      <td>16</td>\n",
       "      <td>2</td>\n",
       "      <td>548</td>\n",
       "      <td>39.14</td>\n",
       "      <td>407</td>\n",
       "      <td>134.64</td>\n",
       "      <td>0</td>\n",
       "      <td>4</td>\n",
       "      <td>52</td>\n",
       "      <td>14</td>\n",
       "    </tr>\n",
       "    <tr>\n",
       "      <th>3</th>\n",
       "      <td>4</td>\n",
       "      <td>17</td>\n",
       "      <td>17</td>\n",
       "      <td>2</td>\n",
       "      <td>519</td>\n",
       "      <td>34.60</td>\n",
       "      <td>421</td>\n",
       "      <td>123.27</td>\n",
       "      <td>0</td>\n",
       "      <td>3</td>\n",
       "      <td>40</td>\n",
       "      <td>16</td>\n",
       "    </tr>\n",
       "    <tr>\n",
       "      <th>4</th>\n",
       "      <td>5</td>\n",
       "      <td>14</td>\n",
       "      <td>13</td>\n",
       "      <td>4</td>\n",
       "      <td>516</td>\n",
       "      <td>57.33</td>\n",
       "      <td>354</td>\n",
       "      <td>145.76</td>\n",
       "      <td>0</td>\n",
       "      <td>4</td>\n",
       "      <td>36</td>\n",
       "      <td>30</td>\n",
       "    </tr>\n",
       "    <tr>\n",
       "      <th>...</th>\n",
       "      <td>...</td>\n",
       "      <td>...</td>\n",
       "      <td>...</td>\n",
       "      <td>...</td>\n",
       "      <td>...</td>\n",
       "      <td>...</td>\n",
       "      <td>...</td>\n",
       "      <td>...</td>\n",
       "      <td>...</td>\n",
       "      <td>...</td>\n",
       "      <td>...</td>\n",
       "      <td>...</td>\n",
       "    </tr>\n",
       "    <tr>\n",
       "      <th>128</th>\n",
       "      <td>129</td>\n",
       "      <td>7</td>\n",
       "      <td>1</td>\n",
       "      <td>0</td>\n",
       "      <td>0</td>\n",
       "      <td>0.00</td>\n",
       "      <td>2</td>\n",
       "      <td>0.00</td>\n",
       "      <td>0</td>\n",
       "      <td>0</td>\n",
       "      <td>0</td>\n",
       "      <td>0</td>\n",
       "    </tr>\n",
       "    <tr>\n",
       "      <th>129</th>\n",
       "      <td>130</td>\n",
       "      <td>8</td>\n",
       "      <td>1</td>\n",
       "      <td>0</td>\n",
       "      <td>0</td>\n",
       "      <td>0.00</td>\n",
       "      <td>3</td>\n",
       "      <td>0.00</td>\n",
       "      <td>0</td>\n",
       "      <td>0</td>\n",
       "      <td>0</td>\n",
       "      <td>0</td>\n",
       "    </tr>\n",
       "    <tr>\n",
       "      <th>130</th>\n",
       "      <td>131</td>\n",
       "      <td>3</td>\n",
       "      <td>1</td>\n",
       "      <td>0</td>\n",
       "      <td>0</td>\n",
       "      <td>0.00</td>\n",
       "      <td>2</td>\n",
       "      <td>0.00</td>\n",
       "      <td>0</td>\n",
       "      <td>0</td>\n",
       "      <td>0</td>\n",
       "      <td>0</td>\n",
       "    </tr>\n",
       "    <tr>\n",
       "      <th>131</th>\n",
       "      <td>132</td>\n",
       "      <td>2</td>\n",
       "      <td>2</td>\n",
       "      <td>0</td>\n",
       "      <td>0</td>\n",
       "      <td>0.00</td>\n",
       "      <td>4</td>\n",
       "      <td>0.00</td>\n",
       "      <td>0</td>\n",
       "      <td>0</td>\n",
       "      <td>0</td>\n",
       "      <td>0</td>\n",
       "    </tr>\n",
       "    <tr>\n",
       "      <th>132</th>\n",
       "      <td>133</td>\n",
       "      <td>15</td>\n",
       "      <td>1</td>\n",
       "      <td>0</td>\n",
       "      <td>0</td>\n",
       "      <td>0.00</td>\n",
       "      <td>1</td>\n",
       "      <td>0.00</td>\n",
       "      <td>0</td>\n",
       "      <td>0</td>\n",
       "      <td>0</td>\n",
       "      <td>0</td>\n",
       "    </tr>\n",
       "  </tbody>\n",
       "</table>\n",
       "<p>133 rows × 12 columns</p>\n",
       "</div>"
      ],
      "text/plain": [
       "     POS  Mat  Inns  NO  Runs    Avg   BF      SR  100  50  4s  6s\n",
       "0      1   14    14   2   670  55.83  518  129.34    1   5  58  23\n",
       "1      2   17    17   3   618  44.14  427  144.73    2   4  67  12\n",
       "2      3   16    16   2   548  39.14  407  134.64    0   4  52  14\n",
       "3      4   17    17   2   519  34.60  421  123.27    0   3  40  16\n",
       "4      5   14    13   4   516  57.33  354  145.76    0   4  36  30\n",
       "..   ...  ...   ...  ..   ...    ...  ...     ...  ...  ..  ..  ..\n",
       "128  129    7     1   0     0   0.00    2    0.00    0   0   0   0\n",
       "129  130    8     1   0     0   0.00    3    0.00    0   0   0   0\n",
       "130  131    3     1   0     0   0.00    2    0.00    0   0   0   0\n",
       "131  132    2     2   0     0   0.00    4    0.00    0   0   0   0\n",
       "132  133   15     1   0     0   0.00    1    0.00    0   0   0   0\n",
       "\n",
       "[133 rows x 12 columns]"
      ]
     },
     "execution_count": 9,
     "metadata": {},
     "output_type": "execute_result"
    }
   ],
   "source": [
    "numeric_data = ipl_data[num_col]\n",
    "numeric_data"
   ]
  },
  {
   "cell_type": "code",
   "execution_count": 10,
   "id": "d1775e16",
   "metadata": {},
   "outputs": [
    {
     "data": {
      "text/html": [
       "<div>\n",
       "<style scoped>\n",
       "    .dataframe tbody tr th:only-of-type {\n",
       "        vertical-align: middle;\n",
       "    }\n",
       "\n",
       "    .dataframe tbody tr th {\n",
       "        vertical-align: top;\n",
       "    }\n",
       "\n",
       "    .dataframe thead th {\n",
       "        text-align: right;\n",
       "    }\n",
       "</style>\n",
       "<table border=\"1\" class=\"dataframe\">\n",
       "  <thead>\n",
       "    <tr style=\"text-align: right;\">\n",
       "      <th></th>\n",
       "      <th>POS</th>\n",
       "      <th>Mat</th>\n",
       "      <th>Inns</th>\n",
       "      <th>NO</th>\n",
       "      <th>Runs</th>\n",
       "      <th>Avg</th>\n",
       "      <th>BF</th>\n",
       "      <th>SR</th>\n",
       "      <th>100</th>\n",
       "      <th>50</th>\n",
       "      <th>4s</th>\n",
       "      <th>6s</th>\n",
       "    </tr>\n",
       "  </thead>\n",
       "  <tbody>\n",
       "    <tr>\n",
       "      <th>POS</th>\n",
       "      <td>1.000000</td>\n",
       "      <td>-0.556695</td>\n",
       "      <td>-0.916174</td>\n",
       "      <td>-0.386247</td>\n",
       "      <td>-0.896664</td>\n",
       "      <td>-0.746510</td>\n",
       "      <td>-0.891969</td>\n",
       "      <td>-0.730489</td>\n",
       "      <td>-0.248353</td>\n",
       "      <td>-0.769577</td>\n",
       "      <td>-0.846965</td>\n",
       "      <td>-0.808756</td>\n",
       "    </tr>\n",
       "    <tr>\n",
       "      <th>Mat</th>\n",
       "      <td>-0.556695</td>\n",
       "      <td>1.000000</td>\n",
       "      <td>0.728358</td>\n",
       "      <td>0.555261</td>\n",
       "      <td>0.565237</td>\n",
       "      <td>0.306128</td>\n",
       "      <td>0.555102</td>\n",
       "      <td>0.371328</td>\n",
       "      <td>0.128405</td>\n",
       "      <td>0.455437</td>\n",
       "      <td>0.522628</td>\n",
       "      <td>0.523367</td>\n",
       "    </tr>\n",
       "    <tr>\n",
       "      <th>Inns</th>\n",
       "      <td>-0.916174</td>\n",
       "      <td>0.728358</td>\n",
       "      <td>1.000000</td>\n",
       "      <td>0.464356</td>\n",
       "      <td>0.895914</td>\n",
       "      <td>0.585148</td>\n",
       "      <td>0.889753</td>\n",
       "      <td>0.581468</td>\n",
       "      <td>0.224328</td>\n",
       "      <td>0.755027</td>\n",
       "      <td>0.846749</td>\n",
       "      <td>0.810922</td>\n",
       "    </tr>\n",
       "    <tr>\n",
       "      <th>NO</th>\n",
       "      <td>-0.386247</td>\n",
       "      <td>0.555261</td>\n",
       "      <td>0.464356</td>\n",
       "      <td>1.000000</td>\n",
       "      <td>0.308747</td>\n",
       "      <td>0.429888</td>\n",
       "      <td>0.271021</td>\n",
       "      <td>0.415060</td>\n",
       "      <td>0.019726</td>\n",
       "      <td>0.174184</td>\n",
       "      <td>0.204779</td>\n",
       "      <td>0.391472</td>\n",
       "    </tr>\n",
       "    <tr>\n",
       "      <th>Runs</th>\n",
       "      <td>-0.896664</td>\n",
       "      <td>0.565237</td>\n",
       "      <td>0.895914</td>\n",
       "      <td>0.308747</td>\n",
       "      <td>1.000000</td>\n",
       "      <td>0.687475</td>\n",
       "      <td>0.989948</td>\n",
       "      <td>0.517678</td>\n",
       "      <td>0.382577</td>\n",
       "      <td>0.912264</td>\n",
       "      <td>0.959576</td>\n",
       "      <td>0.861166</td>\n",
       "    </tr>\n",
       "    <tr>\n",
       "      <th>Avg</th>\n",
       "      <td>-0.746510</td>\n",
       "      <td>0.306128</td>\n",
       "      <td>0.585148</td>\n",
       "      <td>0.429888</td>\n",
       "      <td>0.687475</td>\n",
       "      <td>1.000000</td>\n",
       "      <td>0.664173</td>\n",
       "      <td>0.591306</td>\n",
       "      <td>0.233726</td>\n",
       "      <td>0.638326</td>\n",
       "      <td>0.623643</td>\n",
       "      <td>0.646224</td>\n",
       "    </tr>\n",
       "    <tr>\n",
       "      <th>BF</th>\n",
       "      <td>-0.891969</td>\n",
       "      <td>0.555102</td>\n",
       "      <td>0.889753</td>\n",
       "      <td>0.271021</td>\n",
       "      <td>0.989948</td>\n",
       "      <td>0.664173</td>\n",
       "      <td>1.000000</td>\n",
       "      <td>0.474226</td>\n",
       "      <td>0.358550</td>\n",
       "      <td>0.900547</td>\n",
       "      <td>0.955994</td>\n",
       "      <td>0.810916</td>\n",
       "    </tr>\n",
       "    <tr>\n",
       "      <th>SR</th>\n",
       "      <td>-0.730489</td>\n",
       "      <td>0.371328</td>\n",
       "      <td>0.581468</td>\n",
       "      <td>0.415060</td>\n",
       "      <td>0.517678</td>\n",
       "      <td>0.591306</td>\n",
       "      <td>0.474226</td>\n",
       "      <td>1.000000</td>\n",
       "      <td>0.135331</td>\n",
       "      <td>0.406029</td>\n",
       "      <td>0.465132</td>\n",
       "      <td>0.566317</td>\n",
       "    </tr>\n",
       "    <tr>\n",
       "      <th>100</th>\n",
       "      <td>-0.248353</td>\n",
       "      <td>0.128405</td>\n",
       "      <td>0.224328</td>\n",
       "      <td>0.019726</td>\n",
       "      <td>0.382577</td>\n",
       "      <td>0.233726</td>\n",
       "      <td>0.358550</td>\n",
       "      <td>0.135331</td>\n",
       "      <td>1.000000</td>\n",
       "      <td>0.292812</td>\n",
       "      <td>0.456622</td>\n",
       "      <td>0.186767</td>\n",
       "    </tr>\n",
       "    <tr>\n",
       "      <th>50</th>\n",
       "      <td>-0.769577</td>\n",
       "      <td>0.455437</td>\n",
       "      <td>0.755027</td>\n",
       "      <td>0.174184</td>\n",
       "      <td>0.912264</td>\n",
       "      <td>0.638326</td>\n",
       "      <td>0.900547</td>\n",
       "      <td>0.406029</td>\n",
       "      <td>0.292812</td>\n",
       "      <td>1.000000</td>\n",
       "      <td>0.892025</td>\n",
       "      <td>0.757501</td>\n",
       "    </tr>\n",
       "    <tr>\n",
       "      <th>4s</th>\n",
       "      <td>-0.846965</td>\n",
       "      <td>0.522628</td>\n",
       "      <td>0.846749</td>\n",
       "      <td>0.204779</td>\n",
       "      <td>0.959576</td>\n",
       "      <td>0.623643</td>\n",
       "      <td>0.955994</td>\n",
       "      <td>0.465132</td>\n",
       "      <td>0.456622</td>\n",
       "      <td>0.892025</td>\n",
       "      <td>1.000000</td>\n",
       "      <td>0.731094</td>\n",
       "    </tr>\n",
       "    <tr>\n",
       "      <th>6s</th>\n",
       "      <td>-0.808756</td>\n",
       "      <td>0.523367</td>\n",
       "      <td>0.810922</td>\n",
       "      <td>0.391472</td>\n",
       "      <td>0.861166</td>\n",
       "      <td>0.646224</td>\n",
       "      <td>0.810916</td>\n",
       "      <td>0.566317</td>\n",
       "      <td>0.186767</td>\n",
       "      <td>0.757501</td>\n",
       "      <td>0.731094</td>\n",
       "      <td>1.000000</td>\n",
       "    </tr>\n",
       "  </tbody>\n",
       "</table>\n",
       "</div>"
      ],
      "text/plain": [
       "           POS       Mat      Inns        NO      Runs       Avg        BF  \\\n",
       "POS   1.000000 -0.556695 -0.916174 -0.386247 -0.896664 -0.746510 -0.891969   \n",
       "Mat  -0.556695  1.000000  0.728358  0.555261  0.565237  0.306128  0.555102   \n",
       "Inns -0.916174  0.728358  1.000000  0.464356  0.895914  0.585148  0.889753   \n",
       "NO   -0.386247  0.555261  0.464356  1.000000  0.308747  0.429888  0.271021   \n",
       "Runs -0.896664  0.565237  0.895914  0.308747  1.000000  0.687475  0.989948   \n",
       "Avg  -0.746510  0.306128  0.585148  0.429888  0.687475  1.000000  0.664173   \n",
       "BF   -0.891969  0.555102  0.889753  0.271021  0.989948  0.664173  1.000000   \n",
       "SR   -0.730489  0.371328  0.581468  0.415060  0.517678  0.591306  0.474226   \n",
       "100  -0.248353  0.128405  0.224328  0.019726  0.382577  0.233726  0.358550   \n",
       "50   -0.769577  0.455437  0.755027  0.174184  0.912264  0.638326  0.900547   \n",
       "4s   -0.846965  0.522628  0.846749  0.204779  0.959576  0.623643  0.955994   \n",
       "6s   -0.808756  0.523367  0.810922  0.391472  0.861166  0.646224  0.810916   \n",
       "\n",
       "            SR       100        50        4s        6s  \n",
       "POS  -0.730489 -0.248353 -0.769577 -0.846965 -0.808756  \n",
       "Mat   0.371328  0.128405  0.455437  0.522628  0.523367  \n",
       "Inns  0.581468  0.224328  0.755027  0.846749  0.810922  \n",
       "NO    0.415060  0.019726  0.174184  0.204779  0.391472  \n",
       "Runs  0.517678  0.382577  0.912264  0.959576  0.861166  \n",
       "Avg   0.591306  0.233726  0.638326  0.623643  0.646224  \n",
       "BF    0.474226  0.358550  0.900547  0.955994  0.810916  \n",
       "SR    1.000000  0.135331  0.406029  0.465132  0.566317  \n",
       "100   0.135331  1.000000  0.292812  0.456622  0.186767  \n",
       "50    0.406029  0.292812  1.000000  0.892025  0.757501  \n",
       "4s    0.465132  0.456622  0.892025  1.000000  0.731094  \n",
       "6s    0.566317  0.186767  0.757501  0.731094  1.000000  "
      ]
     },
     "execution_count": 10,
     "metadata": {},
     "output_type": "execute_result"
    }
   ],
   "source": [
    "numeric_data.corr()"
   ]
  },
  {
   "cell_type": "code",
   "execution_count": 11,
   "id": "979ec806",
   "metadata": {},
   "outputs": [
    {
     "data": {
      "text/plain": [
       "<AxesSubplot:>"
      ]
     },
     "execution_count": 11,
     "metadata": {},
     "output_type": "execute_result"
    },
    {
     "data": {
      "image/png": "[encoded data removed]",
      "text/plain": [
       "<Figure size 1000x800 with 2 Axes>"
      ]
     },
     "metadata": {},
     "output_type": "display_data"
    }
   ],
   "source": [
    "plt.figure(figsize=(10,8))\n",
    "sns.heatmap(numeric_data.corr(),cmap='Spectral')"
   ]
  },
  {
   "cell_type": "markdown",
   "id": "5a4a05be",
   "metadata": {},
   "source": [
    "### Q5. Check the list of players who has an average greater than 50 as well strike rate above 120."
   ]
  },
  {
   "cell_type": "code",
   "execution_count": 7,
   "id": "f7c98bb7",
   "metadata": {},
   "outputs": [
    {
     "data": {
      "text/html": [
       "<div>\n",
       "<style scoped>\n",
       "    .dataframe tbody tr th:only-of-type {\n",
       "        vertical-align: middle;\n",
       "    }\n",
       "\n",
       "    .dataframe tbody tr th {\n",
       "        vertical-align: top;\n",
       "    }\n",
       "\n",
       "    .dataframe thead th {\n",
       "        text-align: right;\n",
       "    }\n",
       "</style>\n",
       "<table border=\"1\" class=\"dataframe\">\n",
       "  <thead>\n",
       "    <tr style=\"text-align: right;\">\n",
       "      <th></th>\n",
       "      <th>Player</th>\n",
       "      <th>Avg</th>\n",
       "      <th>SR</th>\n",
       "    </tr>\n",
       "  </thead>\n",
       "  <tbody>\n",
       "    <tr>\n",
       "      <th>0</th>\n",
       "      <td>KL Rahul</td>\n",
       "      <td>55.83</td>\n",
       "      <td>129.34</td>\n",
       "    </tr>\n",
       "    <tr>\n",
       "      <th>4</th>\n",
       "      <td>Ishan Kishan</td>\n",
       "      <td>57.33</td>\n",
       "      <td>145.76</td>\n",
       "    </tr>\n",
       "    <tr>\n",
       "      <th>31</th>\n",
       "      <td>Kieron Pollard</td>\n",
       "      <td>53.60</td>\n",
       "      <td>191.42</td>\n",
       "    </tr>\n",
       "    <tr>\n",
       "      <th>36</th>\n",
       "      <td>Wriddhiman Saha</td>\n",
       "      <td>71.33</td>\n",
       "      <td>139.86</td>\n",
       "    </tr>\n",
       "    <tr>\n",
       "      <th>37</th>\n",
       "      <td>Ruturaj Gaikwad</td>\n",
       "      <td>51.00</td>\n",
       "      <td>120.71</td>\n",
       "    </tr>\n",
       "    <tr>\n",
       "      <th>57</th>\n",
       "      <td>Deepak Hooda</td>\n",
       "      <td>101.00</td>\n",
       "      <td>142.25</td>\n",
       "    </tr>\n",
       "    <tr>\n",
       "      <th>60</th>\n",
       "      <td>Tom Curran</td>\n",
       "      <td>83.00</td>\n",
       "      <td>133.87</td>\n",
       "    </tr>\n",
       "  </tbody>\n",
       "</table>\n",
       "</div>"
      ],
      "text/plain": [
       "             Player     Avg      SR\n",
       "0          KL Rahul   55.83  129.34\n",
       "4      Ishan Kishan   57.33  145.76\n",
       "31   Kieron Pollard   53.60  191.42\n",
       "36  Wriddhiman Saha   71.33  139.86\n",
       "37  Ruturaj Gaikwad   51.00  120.71\n",
       "57     Deepak Hooda  101.00  142.25\n",
       "60       Tom Curran   83.00  133.87"
      ]
     },
     "execution_count": 7,
     "metadata": {},
     "output_type": "execute_result"
    }
   ],
   "source": [
    "ipl_data[['Player', 'Avg', 'SR']][(ipl_data['Avg'] > 50) & (ipl_data['SR'] > 120)]"
   ]
  },
  {
   "cell_type": "markdown",
   "id": "b92de6a0",
   "metadata": {},
   "source": [
    "### Q6. Please check the list of players who has an average greater than 40 and balls faced above 100."
   ]
  },
  {
   "cell_type": "code",
   "execution_count": 8,
   "id": "03ee1768",
   "metadata": {},
   "outputs": [
    {
     "data": {
      "text/html": [
       "<div>\n",
       "<style scoped>\n",
       "    .dataframe tbody tr th:only-of-type {\n",
       "        vertical-align: middle;\n",
       "    }\n",
       "\n",
       "    .dataframe tbody tr th {\n",
       "        vertical-align: top;\n",
       "    }\n",
       "\n",
       "    .dataframe thead th {\n",
       "        text-align: right;\n",
       "    }\n",
       "</style>\n",
       "<table border=\"1\" class=\"dataframe\">\n",
       "  <thead>\n",
       "    <tr style=\"text-align: right;\">\n",
       "      <th></th>\n",
       "      <th>Player</th>\n",
       "      <th>Avg</th>\n",
       "      <th>BF</th>\n",
       "    </tr>\n",
       "  </thead>\n",
       "  <tbody>\n",
       "    <tr>\n",
       "      <th>0</th>\n",
       "      <td>KL Rahul</td>\n",
       "      <td>55.83</td>\n",
       "      <td>518</td>\n",
       "    </tr>\n",
       "    <tr>\n",
       "      <th>1</th>\n",
       "      <td>Shikhar Dhawan</td>\n",
       "      <td>44.14</td>\n",
       "      <td>427</td>\n",
       "    </tr>\n",
       "    <tr>\n",
       "      <th>4</th>\n",
       "      <td>Ishan Kishan</td>\n",
       "      <td>57.33</td>\n",
       "      <td>354</td>\n",
       "    </tr>\n",
       "    <tr>\n",
       "      <th>8</th>\n",
       "      <td>Virat Kohli</td>\n",
       "      <td>42.36</td>\n",
       "      <td>384</td>\n",
       "    </tr>\n",
       "    <tr>\n",
       "      <th>9</th>\n",
       "      <td>AB de Villiers</td>\n",
       "      <td>45.40</td>\n",
       "      <td>286</td>\n",
       "    </tr>\n",
       "    <tr>\n",
       "      <th>10</th>\n",
       "      <td>Faf du Plessis</td>\n",
       "      <td>40.81</td>\n",
       "      <td>319</td>\n",
       "    </tr>\n",
       "    <tr>\n",
       "      <th>14</th>\n",
       "      <td>Eoin Morgan</td>\n",
       "      <td>41.80</td>\n",
       "      <td>302</td>\n",
       "    </tr>\n",
       "    <tr>\n",
       "      <th>24</th>\n",
       "      <td>Kane Williamson</td>\n",
       "      <td>45.28</td>\n",
       "      <td>237</td>\n",
       "    </tr>\n",
       "    <tr>\n",
       "      <th>27</th>\n",
       "      <td>Chris Gayle</td>\n",
       "      <td>41.14</td>\n",
       "      <td>210</td>\n",
       "    </tr>\n",
       "    <tr>\n",
       "      <th>28</th>\n",
       "      <td>Ben Stokes</td>\n",
       "      <td>40.71</td>\n",
       "      <td>200</td>\n",
       "    </tr>\n",
       "    <tr>\n",
       "      <th>31</th>\n",
       "      <td>Kieron Pollard</td>\n",
       "      <td>53.60</td>\n",
       "      <td>140</td>\n",
       "    </tr>\n",
       "    <tr>\n",
       "      <th>32</th>\n",
       "      <td>Rahul Tewatia</td>\n",
       "      <td>42.50</td>\n",
       "      <td>183</td>\n",
       "    </tr>\n",
       "    <tr>\n",
       "      <th>33</th>\n",
       "      <td>Ravindra Jadeja</td>\n",
       "      <td>46.40</td>\n",
       "      <td>135</td>\n",
       "    </tr>\n",
       "    <tr>\n",
       "      <th>36</th>\n",
       "      <td>Wriddhiman Saha</td>\n",
       "      <td>71.33</td>\n",
       "      <td>153</td>\n",
       "    </tr>\n",
       "    <tr>\n",
       "      <th>37</th>\n",
       "      <td>Ruturaj Gaikwad</td>\n",
       "      <td>51.00</td>\n",
       "      <td>169</td>\n",
       "    </tr>\n",
       "  </tbody>\n",
       "</table>\n",
       "</div>"
      ],
      "text/plain": [
       "             Player    Avg   BF\n",
       "0          KL Rahul  55.83  518\n",
       "1    Shikhar Dhawan  44.14  427\n",
       "4      Ishan Kishan  57.33  354\n",
       "8       Virat Kohli  42.36  384\n",
       "9    AB de Villiers  45.40  286\n",
       "10   Faf du Plessis  40.81  319\n",
       "14      Eoin Morgan  41.80  302\n",
       "24  Kane Williamson  45.28  237\n",
       "27      Chris Gayle  41.14  210\n",
       "28       Ben Stokes  40.71  200\n",
       "31   Kieron Pollard  53.60  140\n",
       "32    Rahul Tewatia  42.50  183\n",
       "33  Ravindra Jadeja  46.40  135\n",
       "36  Wriddhiman Saha  71.33  153\n",
       "37  Ruturaj Gaikwad  51.00  169"
      ]
     },
     "execution_count": 8,
     "metadata": {},
     "output_type": "execute_result"
    }
   ],
   "source": [
    "ipl_data[['Player', 'Avg', 'BF']][(ipl_data['Avg'] > 40) & (ipl_data['BF'] > 100)]"
   ]
  },
  {
   "cell_type": "markdown",
   "id": "1865a8ad",
   "metadata": {},
   "source": [
    "### Q7. Please check the list of players who scored more than 300 runs with an average greater than 45 & strike rate above 130."
   ]
  },
  {
   "cell_type": "code",
   "execution_count": 9,
   "id": "3e835d1f",
   "metadata": {},
   "outputs": [
    {
     "data": {
      "text/html": [
       "<div>\n",
       "<style scoped>\n",
       "    .dataframe tbody tr th:only-of-type {\n",
       "        vertical-align: middle;\n",
       "    }\n",
       "\n",
       "    .dataframe tbody tr th {\n",
       "        vertical-align: top;\n",
       "    }\n",
       "\n",
       "    .dataframe thead th {\n",
       "        text-align: right;\n",
       "    }\n",
       "</style>\n",
       "<table border=\"1\" class=\"dataframe\">\n",
       "  <thead>\n",
       "    <tr style=\"text-align: right;\">\n",
       "      <th></th>\n",
       "      <th>Player</th>\n",
       "      <th>Runs</th>\n",
       "      <th>Avg</th>\n",
       "      <th>SR</th>\n",
       "    </tr>\n",
       "  </thead>\n",
       "  <tbody>\n",
       "    <tr>\n",
       "      <th>4</th>\n",
       "      <td>Ishan Kishan</td>\n",
       "      <td>516</td>\n",
       "      <td>57.33</td>\n",
       "      <td>145.76</td>\n",
       "    </tr>\n",
       "    <tr>\n",
       "      <th>9</th>\n",
       "      <td>AB de Villiers</td>\n",
       "      <td>454</td>\n",
       "      <td>45.40</td>\n",
       "      <td>158.74</td>\n",
       "    </tr>\n",
       "    <tr>\n",
       "      <th>24</th>\n",
       "      <td>Kane Williamson</td>\n",
       "      <td>317</td>\n",
       "      <td>45.28</td>\n",
       "      <td>133.75</td>\n",
       "    </tr>\n",
       "  </tbody>\n",
       "</table>\n",
       "</div>"
      ],
      "text/plain": [
       "             Player  Runs    Avg      SR\n",
       "4      Ishan Kishan   516  57.33  145.76\n",
       "9    AB de Villiers   454  45.40  158.74\n",
       "24  Kane Williamson   317  45.28  133.75"
      ]
     },
     "execution_count": 9,
     "metadata": {},
     "output_type": "execute_result"
    }
   ],
   "source": [
    "ipl_data[['Player','Runs','Avg','SR']][(ipl_data['Runs']>300)& (ipl_data['Avg']>45)&(ipl_data['SR']>130)]"
   ]
  },
  {
   "cell_type": "code",
   "execution_count": 10,
   "id": "3de96e5a",
   "metadata": {},
   "outputs": [
    {
     "data": {
      "text/html": [
       "<div>\n",
       "<style scoped>\n",
       "    .dataframe tbody tr th:only-of-type {\n",
       "        vertical-align: middle;\n",
       "    }\n",
       "\n",
       "    .dataframe tbody tr th {\n",
       "        vertical-align: top;\n",
       "    }\n",
       "\n",
       "    .dataframe thead th {\n",
       "        text-align: right;\n",
       "    }\n",
       "</style>\n",
       "<table border=\"1\" class=\"dataframe\">\n",
       "  <thead>\n",
       "    <tr style=\"text-align: right;\">\n",
       "      <th></th>\n",
       "      <th>Player</th>\n",
       "      <th>Runs</th>\n",
       "      <th>Avg</th>\n",
       "      <th>SR</th>\n",
       "    </tr>\n",
       "  </thead>\n",
       "  <tbody>\n",
       "    <tr>\n",
       "      <th>0</th>\n",
       "      <td>KL Rahul</td>\n",
       "      <td>670</td>\n",
       "      <td>55.83</td>\n",
       "      <td>129.34</td>\n",
       "    </tr>\n",
       "    <tr>\n",
       "      <th>1</th>\n",
       "      <td>Shikhar Dhawan</td>\n",
       "      <td>618</td>\n",
       "      <td>44.14</td>\n",
       "      <td>144.73</td>\n",
       "    </tr>\n",
       "    <tr>\n",
       "      <th>2</th>\n",
       "      <td>David Warner</td>\n",
       "      <td>548</td>\n",
       "      <td>39.14</td>\n",
       "      <td>134.64</td>\n",
       "    </tr>\n",
       "    <tr>\n",
       "      <th>4</th>\n",
       "      <td>Ishan Kishan</td>\n",
       "      <td>516</td>\n",
       "      <td>57.33</td>\n",
       "      <td>145.76</td>\n",
       "    </tr>\n",
       "    <tr>\n",
       "      <th>5</th>\n",
       "      <td>Quinton de Kock</td>\n",
       "      <td>503</td>\n",
       "      <td>35.92</td>\n",
       "      <td>140.50</td>\n",
       "    </tr>\n",
       "    <tr>\n",
       "      <th>6</th>\n",
       "      <td>Suryakumar Yadav</td>\n",
       "      <td>480</td>\n",
       "      <td>40.00</td>\n",
       "      <td>145.01</td>\n",
       "    </tr>\n",
       "    <tr>\n",
       "      <th>9</th>\n",
       "      <td>AB de Villiers</td>\n",
       "      <td>454</td>\n",
       "      <td>45.40</td>\n",
       "      <td>158.74</td>\n",
       "    </tr>\n",
       "    <tr>\n",
       "      <th>10</th>\n",
       "      <td>Faf du Plessis</td>\n",
       "      <td>449</td>\n",
       "      <td>40.81</td>\n",
       "      <td>140.75</td>\n",
       "    </tr>\n",
       "    <tr>\n",
       "      <th>13</th>\n",
       "      <td>Mayank Agarwal</td>\n",
       "      <td>424</td>\n",
       "      <td>38.54</td>\n",
       "      <td>156.45</td>\n",
       "    </tr>\n",
       "    <tr>\n",
       "      <th>14</th>\n",
       "      <td>Eoin Morgan</td>\n",
       "      <td>418</td>\n",
       "      <td>41.80</td>\n",
       "      <td>138.41</td>\n",
       "    </tr>\n",
       "    <tr>\n",
       "      <th>15</th>\n",
       "      <td>Sanju Samson</td>\n",
       "      <td>375</td>\n",
       "      <td>28.84</td>\n",
       "      <td>158.89</td>\n",
       "    </tr>\n",
       "    <tr>\n",
       "      <th>17</th>\n",
       "      <td>Nicholas Pooran</td>\n",
       "      <td>353</td>\n",
       "      <td>35.30</td>\n",
       "      <td>169.71</td>\n",
       "    </tr>\n",
       "    <tr>\n",
       "      <th>18</th>\n",
       "      <td>Nitish Rana</td>\n",
       "      <td>352</td>\n",
       "      <td>25.14</td>\n",
       "      <td>138.58</td>\n",
       "    </tr>\n",
       "    <tr>\n",
       "      <th>19</th>\n",
       "      <td>Marcus Stoinis</td>\n",
       "      <td>352</td>\n",
       "      <td>25.14</td>\n",
       "      <td>148.52</td>\n",
       "    </tr>\n",
       "    <tr>\n",
       "      <th>23</th>\n",
       "      <td>Jos Buttler</td>\n",
       "      <td>328</td>\n",
       "      <td>32.80</td>\n",
       "      <td>144.49</td>\n",
       "    </tr>\n",
       "    <tr>\n",
       "      <th>24</th>\n",
       "      <td>Kane Williamson</td>\n",
       "      <td>317</td>\n",
       "      <td>45.28</td>\n",
       "      <td>133.75</td>\n",
       "    </tr>\n",
       "    <tr>\n",
       "      <th>25</th>\n",
       "      <td>Steve Smith</td>\n",
       "      <td>311</td>\n",
       "      <td>25.91</td>\n",
       "      <td>131.22</td>\n",
       "    </tr>\n",
       "    <tr>\n",
       "      <th>27</th>\n",
       "      <td>Chris Gayle</td>\n",
       "      <td>288</td>\n",
       "      <td>41.14</td>\n",
       "      <td>137.14</td>\n",
       "    </tr>\n",
       "    <tr>\n",
       "      <th>28</th>\n",
       "      <td>Ben Stokes</td>\n",
       "      <td>285</td>\n",
       "      <td>40.71</td>\n",
       "      <td>142.50</td>\n",
       "    </tr>\n",
       "    <tr>\n",
       "      <th>29</th>\n",
       "      <td>Hardik Pandya</td>\n",
       "      <td>281</td>\n",
       "      <td>35.12</td>\n",
       "      <td>178.98</td>\n",
       "    </tr>\n",
       "    <tr>\n",
       "      <th>31</th>\n",
       "      <td>Kieron Pollard</td>\n",
       "      <td>268</td>\n",
       "      <td>53.60</td>\n",
       "      <td>191.42</td>\n",
       "    </tr>\n",
       "    <tr>\n",
       "      <th>32</th>\n",
       "      <td>Rahul Tewatia</td>\n",
       "      <td>255</td>\n",
       "      <td>42.50</td>\n",
       "      <td>139.34</td>\n",
       "    </tr>\n",
       "    <tr>\n",
       "      <th>33</th>\n",
       "      <td>Ravindra Jadeja</td>\n",
       "      <td>232</td>\n",
       "      <td>46.40</td>\n",
       "      <td>171.85</td>\n",
       "    </tr>\n",
       "    <tr>\n",
       "      <th>35</th>\n",
       "      <td>Prithvi Shaw</td>\n",
       "      <td>228</td>\n",
       "      <td>17.53</td>\n",
       "      <td>136.52</td>\n",
       "    </tr>\n",
       "    <tr>\n",
       "      <th>36</th>\n",
       "      <td>Wriddhiman Saha</td>\n",
       "      <td>214</td>\n",
       "      <td>71.33</td>\n",
       "      <td>139.86</td>\n",
       "    </tr>\n",
       "    <tr>\n",
       "      <th>40</th>\n",
       "      <td>Sam Curran</td>\n",
       "      <td>186</td>\n",
       "      <td>23.25</td>\n",
       "      <td>131.91</td>\n",
       "    </tr>\n",
       "    <tr>\n",
       "      <th>41</th>\n",
       "      <td>Shimron Hetmyer</td>\n",
       "      <td>185</td>\n",
       "      <td>23.12</td>\n",
       "      <td>148.00</td>\n",
       "    </tr>\n",
       "    <tr>\n",
       "      <th>47</th>\n",
       "      <td>Sunil Narine</td>\n",
       "      <td>121</td>\n",
       "      <td>13.44</td>\n",
       "      <td>142.35</td>\n",
       "    </tr>\n",
       "    <tr>\n",
       "      <th>48</th>\n",
       "      <td>Andre Russell</td>\n",
       "      <td>117</td>\n",
       "      <td>13.00</td>\n",
       "      <td>144.44</td>\n",
       "    </tr>\n",
       "    <tr>\n",
       "      <th>49</th>\n",
       "      <td>Axar Patel</td>\n",
       "      <td>117</td>\n",
       "      <td>14.62</td>\n",
       "      <td>137.64</td>\n",
       "    </tr>\n",
       "    <tr>\n",
       "      <th>50</th>\n",
       "      <td>Jofra Archer</td>\n",
       "      <td>113</td>\n",
       "      <td>18.83</td>\n",
       "      <td>179.36</td>\n",
       "    </tr>\n",
       "    <tr>\n",
       "      <th>53</th>\n",
       "      <td>Abdul Samad</td>\n",
       "      <td>111</td>\n",
       "      <td>22.20</td>\n",
       "      <td>170.76</td>\n",
       "    </tr>\n",
       "    <tr>\n",
       "      <th>57</th>\n",
       "      <td>Deepak Hooda</td>\n",
       "      <td>101</td>\n",
       "      <td>101.00</td>\n",
       "      <td>142.25</td>\n",
       "    </tr>\n",
       "    <tr>\n",
       "      <th>60</th>\n",
       "      <td>Tom Curran</td>\n",
       "      <td>83</td>\n",
       "      <td>83.00</td>\n",
       "      <td>133.87</td>\n",
       "    </tr>\n",
       "    <tr>\n",
       "      <th>68</th>\n",
       "      <td>Lockie Ferguson</td>\n",
       "      <td>43</td>\n",
       "      <td>0.00</td>\n",
       "      <td>148.27</td>\n",
       "    </tr>\n",
       "    <tr>\n",
       "      <th>69</th>\n",
       "      <td>Krishnappa Gowtham</td>\n",
       "      <td>42</td>\n",
       "      <td>42.00</td>\n",
       "      <td>155.55</td>\n",
       "    </tr>\n",
       "    <tr>\n",
       "      <th>74</th>\n",
       "      <td>Chris Morris</td>\n",
       "      <td>34</td>\n",
       "      <td>8.50</td>\n",
       "      <td>161.90</td>\n",
       "    </tr>\n",
       "    <tr>\n",
       "      <th>81</th>\n",
       "      <td>Nathan Coulter-Nile</td>\n",
       "      <td>25</td>\n",
       "      <td>25.00</td>\n",
       "      <td>166.66</td>\n",
       "    </tr>\n",
       "    <tr>\n",
       "      <th>83</th>\n",
       "      <td>Tushar Deshpande</td>\n",
       "      <td>21</td>\n",
       "      <td>21.00</td>\n",
       "      <td>175.00</td>\n",
       "    </tr>\n",
       "    <tr>\n",
       "      <th>90</th>\n",
       "      <td>Isuru Udana</td>\n",
       "      <td>15</td>\n",
       "      <td>5.00</td>\n",
       "      <td>136.36</td>\n",
       "    </tr>\n",
       "    <tr>\n",
       "      <th>97</th>\n",
       "      <td>Mohammad Nabi</td>\n",
       "      <td>11</td>\n",
       "      <td>0.00</td>\n",
       "      <td>137.50</td>\n",
       "    </tr>\n",
       "    <tr>\n",
       "      <th>110</th>\n",
       "      <td>Jasprit Bumrah</td>\n",
       "      <td>5</td>\n",
       "      <td>0.00</td>\n",
       "      <td>166.66</td>\n",
       "    </tr>\n",
       "    <tr>\n",
       "      <th>113</th>\n",
       "      <td>Dhawal Kulkarni</td>\n",
       "      <td>3</td>\n",
       "      <td>0.00</td>\n",
       "      <td>150.00</td>\n",
       "    </tr>\n",
       "  </tbody>\n",
       "</table>\n",
       "</div>"
      ],
      "text/plain": [
       "                  Player  Runs     Avg      SR\n",
       "0               KL Rahul   670   55.83  129.34\n",
       "1         Shikhar Dhawan   618   44.14  144.73\n",
       "2           David Warner   548   39.14  134.64\n",
       "4           Ishan Kishan   516   57.33  145.76\n",
       "5        Quinton de Kock   503   35.92  140.50\n",
       "6       Suryakumar Yadav   480   40.00  145.01\n",
       "9         AB de Villiers   454   45.40  158.74\n",
       "10        Faf du Plessis   449   40.81  140.75\n",
       "13        Mayank Agarwal   424   38.54  156.45\n",
       "14           Eoin Morgan   418   41.80  138.41\n",
       "15          Sanju Samson   375   28.84  158.89\n",
       "17       Nicholas Pooran   353   35.30  169.71\n",
       "18           Nitish Rana   352   25.14  138.58\n",
       "19        Marcus Stoinis   352   25.14  148.52\n",
       "23           Jos Buttler   328   32.80  144.49\n",
       "24       Kane Williamson   317   45.28  133.75\n",
       "25           Steve Smith   311   25.91  131.22\n",
       "27           Chris Gayle   288   41.14  137.14\n",
       "28            Ben Stokes   285   40.71  142.50\n",
       "29         Hardik Pandya   281   35.12  178.98\n",
       "31        Kieron Pollard   268   53.60  191.42\n",
       "32         Rahul Tewatia   255   42.50  139.34\n",
       "33       Ravindra Jadeja   232   46.40  171.85\n",
       "35          Prithvi Shaw   228   17.53  136.52\n",
       "36       Wriddhiman Saha   214   71.33  139.86\n",
       "40            Sam Curran   186   23.25  131.91\n",
       "41       Shimron Hetmyer   185   23.12  148.00\n",
       "47          Sunil Narine   121   13.44  142.35\n",
       "48         Andre Russell   117   13.00  144.44\n",
       "49            Axar Patel   117   14.62  137.64\n",
       "50          Jofra Archer   113   18.83  179.36\n",
       "53           Abdul Samad   111   22.20  170.76\n",
       "57          Deepak Hooda   101  101.00  142.25\n",
       "60            Tom Curran    83   83.00  133.87\n",
       "68       Lockie Ferguson    43    0.00  148.27\n",
       "69    Krishnappa Gowtham    42   42.00  155.55\n",
       "74          Chris Morris    34    8.50  161.90\n",
       "81   Nathan Coulter-Nile    25   25.00  166.66\n",
       "83      Tushar Deshpande    21   21.00  175.00\n",
       "90           Isuru Udana    15    5.00  136.36\n",
       "97         Mohammad Nabi    11    0.00  137.50\n",
       "110       Jasprit Bumrah     5    0.00  166.66\n",
       "113      Dhawal Kulkarni     3    0.00  150.00"
      ]
     },
     "execution_count": 10,
     "metadata": {},
     "output_type": "execute_result"
    }
   ],
   "source": [
    "ipl_data[['Player','Runs','Avg','SR']][(ipl_data['Runs']>300)& (ipl_data['Avg']>45)|(ipl_data['SR']>130)]"
   ]
  },
  {
   "cell_type": "markdown",
   "id": "10994f73",
   "metadata": {},
   "source": [
    "### Q8. Players who scroed alteast one century in this season."
   ]
  },
  {
   "cell_type": "code",
   "execution_count": 13,
   "id": "e9551dd7",
   "metadata": {},
   "outputs": [
    {
     "data": {
      "text/html": [
       "<div>\n",
       "<style scoped>\n",
       "    .dataframe tbody tr th:only-of-type {\n",
       "        vertical-align: middle;\n",
       "    }\n",
       "\n",
       "    .dataframe tbody tr th {\n",
       "        vertical-align: top;\n",
       "    }\n",
       "\n",
       "    .dataframe thead th {\n",
       "        text-align: right;\n",
       "    }\n",
       "</style>\n",
       "<table border=\"1\" class=\"dataframe\">\n",
       "  <thead>\n",
       "    <tr style=\"text-align: right;\">\n",
       "      <th></th>\n",
       "      <th>Player</th>\n",
       "      <th>100</th>\n",
       "    </tr>\n",
       "  </thead>\n",
       "  <tbody>\n",
       "    <tr>\n",
       "      <th>0</th>\n",
       "      <td>KL Rahul</td>\n",
       "      <td>1</td>\n",
       "    </tr>\n",
       "    <tr>\n",
       "      <th>1</th>\n",
       "      <td>Shikhar Dhawan</td>\n",
       "      <td>2</td>\n",
       "    </tr>\n",
       "    <tr>\n",
       "      <th>13</th>\n",
       "      <td>Mayank Agarwal</td>\n",
       "      <td>1</td>\n",
       "    </tr>\n",
       "    <tr>\n",
       "      <th>28</th>\n",
       "      <td>Ben Stokes</td>\n",
       "      <td>1</td>\n",
       "    </tr>\n",
       "  </tbody>\n",
       "</table>\n",
       "</div>"
      ],
      "text/plain": [
       "            Player  100\n",
       "0         KL Rahul    1\n",
       "1   Shikhar Dhawan    2\n",
       "13  Mayank Agarwal    1\n",
       "28      Ben Stokes    1"
      ]
     },
     "execution_count": 13,
     "metadata": {},
     "output_type": "execute_result"
    }
   ],
   "source": [
    "ipl_data[['Player','100']][ipl_data['100']>0]"
   ]
  },
  {
   "cell_type": "markdown",
   "id": "6c0518e5",
   "metadata": {},
   "source": [
    "### Q9. Players who scored atleast 4 half centuries in this season."
   ]
  },
  {
   "cell_type": "code",
   "execution_count": 14,
   "id": "501ba3e4",
   "metadata": {},
   "outputs": [
    {
     "data": {
      "text/html": [
       "<div>\n",
       "<style scoped>\n",
       "    .dataframe tbody tr th:only-of-type {\n",
       "        vertical-align: middle;\n",
       "    }\n",
       "\n",
       "    .dataframe tbody tr th {\n",
       "        vertical-align: top;\n",
       "    }\n",
       "\n",
       "    .dataframe thead th {\n",
       "        text-align: right;\n",
       "    }\n",
       "</style>\n",
       "<table border=\"1\" class=\"dataframe\">\n",
       "  <thead>\n",
       "    <tr style=\"text-align: right;\">\n",
       "      <th></th>\n",
       "      <th>Player</th>\n",
       "      <th>50</th>\n",
       "    </tr>\n",
       "  </thead>\n",
       "  <tbody>\n",
       "    <tr>\n",
       "      <th>0</th>\n",
       "      <td>KL Rahul</td>\n",
       "      <td>5</td>\n",
       "    </tr>\n",
       "    <tr>\n",
       "      <th>1</th>\n",
       "      <td>Shikhar Dhawan</td>\n",
       "      <td>4</td>\n",
       "    </tr>\n",
       "    <tr>\n",
       "      <th>2</th>\n",
       "      <td>David Warner</td>\n",
       "      <td>4</td>\n",
       "    </tr>\n",
       "    <tr>\n",
       "      <th>4</th>\n",
       "      <td>Ishan Kishan</td>\n",
       "      <td>4</td>\n",
       "    </tr>\n",
       "    <tr>\n",
       "      <th>5</th>\n",
       "      <td>Quinton de Kock</td>\n",
       "      <td>4</td>\n",
       "    </tr>\n",
       "    <tr>\n",
       "      <th>6</th>\n",
       "      <td>Suryakumar Yadav</td>\n",
       "      <td>4</td>\n",
       "    </tr>\n",
       "    <tr>\n",
       "      <th>7</th>\n",
       "      <td>Devdutt Padikkal</td>\n",
       "      <td>5</td>\n",
       "    </tr>\n",
       "    <tr>\n",
       "      <th>9</th>\n",
       "      <td>AB de Villiers</td>\n",
       "      <td>5</td>\n",
       "    </tr>\n",
       "    <tr>\n",
       "      <th>10</th>\n",
       "      <td>Faf du Plessis</td>\n",
       "      <td>4</td>\n",
       "    </tr>\n",
       "  </tbody>\n",
       "</table>\n",
       "</div>"
      ],
      "text/plain": [
       "              Player  50\n",
       "0           KL Rahul   5\n",
       "1     Shikhar Dhawan   4\n",
       "2       David Warner   4\n",
       "4       Ishan Kishan   4\n",
       "5    Quinton de Kock   4\n",
       "6   Suryakumar Yadav   4\n",
       "7   Devdutt Padikkal   5\n",
       "9     AB de Villiers   5\n",
       "10    Faf du Plessis   4"
      ]
     },
     "execution_count": 14,
     "metadata": {},
     "output_type": "execute_result"
    }
   ],
   "source": [
    "ipl_data[['Player','50']][ipl_data['50']>3]"
   ]
  },
  {
   "cell_type": "markdown",
   "id": "4dd58197",
   "metadata": {},
   "source": [
    "### Q10. Check the list of players who hit more than 45 boundaries and more than 10 sixes in this season."
   ]
  },
  {
   "cell_type": "code",
   "execution_count": 15,
   "id": "e725cb95",
   "metadata": {},
   "outputs": [
    {
     "data": {
      "text/html": [
       "<div>\n",
       "<style scoped>\n",
       "    .dataframe tbody tr th:only-of-type {\n",
       "        vertical-align: middle;\n",
       "    }\n",
       "\n",
       "    .dataframe tbody tr th {\n",
       "        vertical-align: top;\n",
       "    }\n",
       "\n",
       "    .dataframe thead th {\n",
       "        text-align: right;\n",
       "    }\n",
       "</style>\n",
       "<table border=\"1\" class=\"dataframe\">\n",
       "  <thead>\n",
       "    <tr style=\"text-align: right;\">\n",
       "      <th></th>\n",
       "      <th>Player</th>\n",
       "      <th>4s</th>\n",
       "      <th>6s</th>\n",
       "    </tr>\n",
       "  </thead>\n",
       "  <tbody>\n",
       "    <tr>\n",
       "      <th>0</th>\n",
       "      <td>KL Rahul</td>\n",
       "      <td>58</td>\n",
       "      <td>23</td>\n",
       "    </tr>\n",
       "    <tr>\n",
       "      <th>1</th>\n",
       "      <td>Shikhar Dhawan</td>\n",
       "      <td>67</td>\n",
       "      <td>12</td>\n",
       "    </tr>\n",
       "    <tr>\n",
       "      <th>2</th>\n",
       "      <td>David Warner</td>\n",
       "      <td>52</td>\n",
       "      <td>14</td>\n",
       "    </tr>\n",
       "    <tr>\n",
       "      <th>5</th>\n",
       "      <td>Quinton de Kock</td>\n",
       "      <td>46</td>\n",
       "      <td>22</td>\n",
       "    </tr>\n",
       "    <tr>\n",
       "      <th>6</th>\n",
       "      <td>Suryakumar Yadav</td>\n",
       "      <td>61</td>\n",
       "      <td>11</td>\n",
       "    </tr>\n",
       "  </tbody>\n",
       "</table>\n",
       "</div>"
      ],
      "text/plain": [
       "             Player  4s  6s\n",
       "0          KL Rahul  58  23\n",
       "1    Shikhar Dhawan  67  12\n",
       "2      David Warner  52  14\n",
       "5   Quinton de Kock  46  22\n",
       "6  Suryakumar Yadav  61  11"
      ]
     },
     "execution_count": 15,
     "metadata": {},
     "output_type": "execute_result"
    }
   ],
   "source": [
    "ipl_data[['Player','4s','6s']][(ipl_data['4s']>45) & (ipl_data['6s']>10)]"
   ]
  },
  {
   "cell_type": "markdown",
   "id": "04409ae3",
   "metadata": {},
   "source": [
    "### Q11. Plot a histogram of number of matches played in a season by players."
   ]
  },
  {
   "cell_type": "code",
   "execution_count": 8,
   "id": "91f5f834",
   "metadata": {},
   "outputs": [
    {
     "data": {
      "text/plain": [
       "<AxesSubplot:xlabel='Mat', ylabel='Count'>"
      ]
     },
     "execution_count": 8,
     "metadata": {},
     "output_type": "execute_result"
    },
    {
     "data": {
      "image/png": "[encoded data removed]",
      "text/plain": [
       "<Figure size 640x480 with 1 Axes>"
      ]
     },
     "metadata": {},
     "output_type": "display_data"
    }
   ],
   "source": [
    "sns.histplot(ipl_data['Mat'],bins=9)"
   ]
  },
  {
   "cell_type": "code",
   "execution_count": 24,
   "id": "87feceb8",
   "metadata": {},
   "outputs": [
    {
     "data": {
      "image/png": "[encoded data removed]",
      "text/plain": [
       "<Figure size 640x480 with 1 Axes>"
      ]
     },
     "metadata": {},
     "output_type": "display_data"
    }
   ],
   "source": [
    "# Extract the column of number of matches played\n",
    "matches_played = ipl_data['Mat']\n",
    "\n",
    "# Plot the histogram\n",
    "plt.hist(matches_played, bins=17)\n",
    "plt.xlabel('Number of Matches')\n",
    "plt.ylabel('Frequency')\n",
    "plt.title('Histogram of Number of Matches Played')\n",
    "plt.show()"
   ]
  },
  {
   "cell_type": "markdown",
   "id": "3fe51e21",
   "metadata": {},
   "source": [
    "### Q12. Plot the histogram of balls faced by players."
   ]
  },
  {
   "cell_type": "code",
   "execution_count": 20,
   "id": "3587ff36",
   "metadata": {},
   "outputs": [
    {
     "data": {
      "text/plain": [
       "<AxesSubplot:xlabel='BF', ylabel='Count'>"
      ]
     },
     "execution_count": 20,
     "metadata": {},
     "output_type": "execute_result"
    },
    {
     "data": {
      "image/png": "[encoded data removed]",
      "text/plain": [
       "<Figure size 640x480 with 1 Axes>"
      ]
     },
     "metadata": {},
     "output_type": "display_data"
    }
   ],
   "source": [
    "sns.histplot(ipl_data['BF'],bins=15)"
   ]
  },
  {
   "cell_type": "code",
   "execution_count": 29,
   "id": "e6c21a31",
   "metadata": {},
   "outputs": [
    {
     "data": {
      "image/png": "[encoded data removed]",
      "text/plain": [
       "<Figure size 640x480 with 1 Axes>"
      ]
     },
     "metadata": {},
     "output_type": "display_data"
    }
   ],
   "source": [
    "ball_faced = ipl_data['BF']\n",
    "\n",
    "plt.hist(ball_faced, bins=20)\n",
    "plt.xlabel('Number of Ball faced')\n",
    "plt.ylabel('Frequency')\n",
    "plt.title('Histogram of Number of Ball faced')\n",
    "plt.show()"
   ]
  },
  {
   "cell_type": "markdown",
   "id": "3f6a8b0c",
   "metadata": {},
   "source": [
    "### Q13. Top 20 players with most runs in a season."
   ]
  },
  {
   "cell_type": "code",
   "execution_count": 22,
   "id": "2fc78865",
   "metadata": {},
   "outputs": [
    {
     "data": {
      "text/html": [
       "<div>\n",
       "<style scoped>\n",
       "    .dataframe tbody tr th:only-of-type {\n",
       "        vertical-align: middle;\n",
       "    }\n",
       "\n",
       "    .dataframe tbody tr th {\n",
       "        vertical-align: top;\n",
       "    }\n",
       "\n",
       "    .dataframe thead th {\n",
       "        text-align: right;\n",
       "    }\n",
       "</style>\n",
       "<table border=\"1\" class=\"dataframe\">\n",
       "  <thead>\n",
       "    <tr style=\"text-align: right;\">\n",
       "      <th></th>\n",
       "      <th>Player</th>\n",
       "      <th>Runs</th>\n",
       "    </tr>\n",
       "  </thead>\n",
       "  <tbody>\n",
       "    <tr>\n",
       "      <th>0</th>\n",
       "      <td>KL Rahul</td>\n",
       "      <td>670</td>\n",
       "    </tr>\n",
       "    <tr>\n",
       "      <th>1</th>\n",
       "      <td>Shikhar Dhawan</td>\n",
       "      <td>618</td>\n",
       "    </tr>\n",
       "    <tr>\n",
       "      <th>2</th>\n",
       "      <td>David Warner</td>\n",
       "      <td>548</td>\n",
       "    </tr>\n",
       "    <tr>\n",
       "      <th>3</th>\n",
       "      <td>Shreyas Iyer</td>\n",
       "      <td>519</td>\n",
       "    </tr>\n",
       "    <tr>\n",
       "      <th>4</th>\n",
       "      <td>Ishan Kishan</td>\n",
       "      <td>516</td>\n",
       "    </tr>\n",
       "    <tr>\n",
       "      <th>5</th>\n",
       "      <td>Quinton de Kock</td>\n",
       "      <td>503</td>\n",
       "    </tr>\n",
       "    <tr>\n",
       "      <th>6</th>\n",
       "      <td>Suryakumar Yadav</td>\n",
       "      <td>480</td>\n",
       "    </tr>\n",
       "    <tr>\n",
       "      <th>7</th>\n",
       "      <td>Devdutt Padikkal</td>\n",
       "      <td>473</td>\n",
       "    </tr>\n",
       "    <tr>\n",
       "      <th>8</th>\n",
       "      <td>Virat Kohli</td>\n",
       "      <td>466</td>\n",
       "    </tr>\n",
       "    <tr>\n",
       "      <th>9</th>\n",
       "      <td>AB de Villiers</td>\n",
       "      <td>454</td>\n",
       "    </tr>\n",
       "    <tr>\n",
       "      <th>10</th>\n",
       "      <td>Faf du Plessis</td>\n",
       "      <td>449</td>\n",
       "    </tr>\n",
       "    <tr>\n",
       "      <th>11</th>\n",
       "      <td>Shubman Gill</td>\n",
       "      <td>440</td>\n",
       "    </tr>\n",
       "    <tr>\n",
       "      <th>12</th>\n",
       "      <td>Manish Pandey</td>\n",
       "      <td>425</td>\n",
       "    </tr>\n",
       "    <tr>\n",
       "      <th>13</th>\n",
       "      <td>Mayank Agarwal</td>\n",
       "      <td>424</td>\n",
       "    </tr>\n",
       "    <tr>\n",
       "      <th>14</th>\n",
       "      <td>Eoin Morgan</td>\n",
       "      <td>418</td>\n",
       "    </tr>\n",
       "    <tr>\n",
       "      <th>15</th>\n",
       "      <td>Sanju Samson</td>\n",
       "      <td>375</td>\n",
       "    </tr>\n",
       "    <tr>\n",
       "      <th>16</th>\n",
       "      <td>Ambati Rayudu</td>\n",
       "      <td>359</td>\n",
       "    </tr>\n",
       "    <tr>\n",
       "      <th>17</th>\n",
       "      <td>Nicholas Pooran</td>\n",
       "      <td>353</td>\n",
       "    </tr>\n",
       "    <tr>\n",
       "      <th>18</th>\n",
       "      <td>Nitish Rana</td>\n",
       "      <td>352</td>\n",
       "    </tr>\n",
       "    <tr>\n",
       "      <th>19</th>\n",
       "      <td>Marcus Stoinis</td>\n",
       "      <td>352</td>\n",
       "    </tr>\n",
       "  </tbody>\n",
       "</table>\n",
       "</div>"
      ],
      "text/plain": [
       "              Player  Runs\n",
       "0           KL Rahul   670\n",
       "1     Shikhar Dhawan   618\n",
       "2       David Warner   548\n",
       "3       Shreyas Iyer   519\n",
       "4       Ishan Kishan   516\n",
       "5    Quinton de Kock   503\n",
       "6   Suryakumar Yadav   480\n",
       "7   Devdutt Padikkal   473\n",
       "8        Virat Kohli   466\n",
       "9     AB de Villiers   454\n",
       "10    Faf du Plessis   449\n",
       "11      Shubman Gill   440\n",
       "12     Manish Pandey   425\n",
       "13    Mayank Agarwal   424\n",
       "14       Eoin Morgan   418\n",
       "15      Sanju Samson   375\n",
       "16     Ambati Rayudu   359\n",
       "17   Nicholas Pooran   353\n",
       "18       Nitish Rana   352\n",
       "19    Marcus Stoinis   352"
      ]
     },
     "execution_count": 22,
     "metadata": {},
     "output_type": "execute_result"
    }
   ],
   "source": [
    "sorted_ipl_data = ipl_data.sort_values(['Runs', 'Player'], ascending=False)\n",
    "sorted_ipl_data[['Player','Runs']].head(20)"
   ]
  },
  {
   "cell_type": "markdown",
   "id": "a491f6dd",
   "metadata": {},
   "source": [
    "### Q14. Bar chart for top 20 players with best strike rate in a season."
   ]
  },
  {
   "cell_type": "code",
   "execution_count": 16,
   "id": "7b7dadcb",
   "metadata": {},
   "outputs": [
    {
     "data": {
      "text/html": [
       "<div>\n",
       "<style scoped>\n",
       "    .dataframe tbody tr th:only-of-type {\n",
       "        vertical-align: middle;\n",
       "    }\n",
       "\n",
       "    .dataframe tbody tr th {\n",
       "        vertical-align: top;\n",
       "    }\n",
       "\n",
       "    .dataframe thead th {\n",
       "        text-align: right;\n",
       "    }\n",
       "</style>\n",
       "<table border=\"1\" class=\"dataframe\">\n",
       "  <thead>\n",
       "    <tr style=\"text-align: right;\">\n",
       "      <th></th>\n",
       "      <th>POS</th>\n",
       "      <th>Player</th>\n",
       "      <th>Mat</th>\n",
       "      <th>Inns</th>\n",
       "      <th>NO</th>\n",
       "      <th>Runs</th>\n",
       "      <th>HS</th>\n",
       "      <th>Avg</th>\n",
       "      <th>BF</th>\n",
       "      <th>SR</th>\n",
       "      <th>100</th>\n",
       "      <th>50</th>\n",
       "      <th>4s</th>\n",
       "      <th>6s</th>\n",
       "    </tr>\n",
       "  </thead>\n",
       "  <tbody>\n",
       "    <tr>\n",
       "      <th>31</th>\n",
       "      <td>32</td>\n",
       "      <td>Kieron Pollard</td>\n",
       "      <td>16</td>\n",
       "      <td>12</td>\n",
       "      <td>7</td>\n",
       "      <td>268</td>\n",
       "      <td>60*</td>\n",
       "      <td>53.60</td>\n",
       "      <td>140</td>\n",
       "      <td>191.42</td>\n",
       "      <td>0</td>\n",
       "      <td>1</td>\n",
       "      <td>15</td>\n",
       "      <td>22</td>\n",
       "    </tr>\n",
       "    <tr>\n",
       "      <th>50</th>\n",
       "      <td>51</td>\n",
       "      <td>Jofra Archer</td>\n",
       "      <td>14</td>\n",
       "      <td>10</td>\n",
       "      <td>4</td>\n",
       "      <td>113</td>\n",
       "      <td>27*</td>\n",
       "      <td>18.83</td>\n",
       "      <td>63</td>\n",
       "      <td>179.36</td>\n",
       "      <td>0</td>\n",
       "      <td>0</td>\n",
       "      <td>5</td>\n",
       "      <td>10</td>\n",
       "    </tr>\n",
       "    <tr>\n",
       "      <th>29</th>\n",
       "      <td>30</td>\n",
       "      <td>Hardik Pandya</td>\n",
       "      <td>14</td>\n",
       "      <td>13</td>\n",
       "      <td>5</td>\n",
       "      <td>281</td>\n",
       "      <td>60*</td>\n",
       "      <td>35.12</td>\n",
       "      <td>157</td>\n",
       "      <td>178.98</td>\n",
       "      <td>0</td>\n",
       "      <td>1</td>\n",
       "      <td>14</td>\n",
       "      <td>25</td>\n",
       "    </tr>\n",
       "    <tr>\n",
       "      <th>83</th>\n",
       "      <td>84</td>\n",
       "      <td>Tushar Deshpande</td>\n",
       "      <td>5</td>\n",
       "      <td>2</td>\n",
       "      <td>1</td>\n",
       "      <td>21</td>\n",
       "      <td>20*</td>\n",
       "      <td>21.00</td>\n",
       "      <td>12</td>\n",
       "      <td>175.00</td>\n",
       "      <td>0</td>\n",
       "      <td>0</td>\n",
       "      <td>2</td>\n",
       "      <td>1</td>\n",
       "    </tr>\n",
       "    <tr>\n",
       "      <th>33</th>\n",
       "      <td>34</td>\n",
       "      <td>Ravindra Jadeja</td>\n",
       "      <td>14</td>\n",
       "      <td>11</td>\n",
       "      <td>6</td>\n",
       "      <td>232</td>\n",
       "      <td>50</td>\n",
       "      <td>46.40</td>\n",
       "      <td>135</td>\n",
       "      <td>171.85</td>\n",
       "      <td>0</td>\n",
       "      <td>1</td>\n",
       "      <td>22</td>\n",
       "      <td>11</td>\n",
       "    </tr>\n",
       "    <tr>\n",
       "      <th>53</th>\n",
       "      <td>54</td>\n",
       "      <td>Abdul Samad</td>\n",
       "      <td>12</td>\n",
       "      <td>8</td>\n",
       "      <td>3</td>\n",
       "      <td>111</td>\n",
       "      <td>33</td>\n",
       "      <td>22.20</td>\n",
       "      <td>65</td>\n",
       "      <td>170.76</td>\n",
       "      <td>0</td>\n",
       "      <td>0</td>\n",
       "      <td>8</td>\n",
       "      <td>6</td>\n",
       "    </tr>\n",
       "    <tr>\n",
       "      <th>17</th>\n",
       "      <td>18</td>\n",
       "      <td>Nicholas Pooran</td>\n",
       "      <td>14</td>\n",
       "      <td>14</td>\n",
       "      <td>4</td>\n",
       "      <td>353</td>\n",
       "      <td>77</td>\n",
       "      <td>35.30</td>\n",
       "      <td>208</td>\n",
       "      <td>169.71</td>\n",
       "      <td>0</td>\n",
       "      <td>2</td>\n",
       "      <td>23</td>\n",
       "      <td>25</td>\n",
       "    </tr>\n",
       "    <tr>\n",
       "      <th>81</th>\n",
       "      <td>82</td>\n",
       "      <td>Nathan Coulter-Nile</td>\n",
       "      <td>7</td>\n",
       "      <td>2</td>\n",
       "      <td>1</td>\n",
       "      <td>25</td>\n",
       "      <td>24*</td>\n",
       "      <td>25.00</td>\n",
       "      <td>15</td>\n",
       "      <td>166.66</td>\n",
       "      <td>0</td>\n",
       "      <td>0</td>\n",
       "      <td>4</td>\n",
       "      <td>0</td>\n",
       "    </tr>\n",
       "    <tr>\n",
       "      <th>110</th>\n",
       "      <td>111</td>\n",
       "      <td>Jasprit Bumrah</td>\n",
       "      <td>15</td>\n",
       "      <td>1</td>\n",
       "      <td>1</td>\n",
       "      <td>5</td>\n",
       "      <td>5*</td>\n",
       "      <td>0.00</td>\n",
       "      <td>3</td>\n",
       "      <td>166.66</td>\n",
       "      <td>0</td>\n",
       "      <td>0</td>\n",
       "      <td>0</td>\n",
       "      <td>0</td>\n",
       "    </tr>\n",
       "    <tr>\n",
       "      <th>74</th>\n",
       "      <td>75</td>\n",
       "      <td>Chris Morris</td>\n",
       "      <td>9</td>\n",
       "      <td>5</td>\n",
       "      <td>1</td>\n",
       "      <td>34</td>\n",
       "      <td>25*</td>\n",
       "      <td>8.50</td>\n",
       "      <td>21</td>\n",
       "      <td>161.90</td>\n",
       "      <td>0</td>\n",
       "      <td>0</td>\n",
       "      <td>2</td>\n",
       "      <td>3</td>\n",
       "    </tr>\n",
       "    <tr>\n",
       "      <th>15</th>\n",
       "      <td>16</td>\n",
       "      <td>Sanju Samson</td>\n",
       "      <td>14</td>\n",
       "      <td>14</td>\n",
       "      <td>1</td>\n",
       "      <td>375</td>\n",
       "      <td>85</td>\n",
       "      <td>28.84</td>\n",
       "      <td>236</td>\n",
       "      <td>158.89</td>\n",
       "      <td>0</td>\n",
       "      <td>3</td>\n",
       "      <td>21</td>\n",
       "      <td>26</td>\n",
       "    </tr>\n",
       "    <tr>\n",
       "      <th>9</th>\n",
       "      <td>10</td>\n",
       "      <td>AB de Villiers</td>\n",
       "      <td>15</td>\n",
       "      <td>14</td>\n",
       "      <td>4</td>\n",
       "      <td>454</td>\n",
       "      <td>73*</td>\n",
       "      <td>45.40</td>\n",
       "      <td>286</td>\n",
       "      <td>158.74</td>\n",
       "      <td>0</td>\n",
       "      <td>5</td>\n",
       "      <td>33</td>\n",
       "      <td>23</td>\n",
       "    </tr>\n",
       "    <tr>\n",
       "      <th>13</th>\n",
       "      <td>14</td>\n",
       "      <td>Mayank Agarwal</td>\n",
       "      <td>11</td>\n",
       "      <td>11</td>\n",
       "      <td>0</td>\n",
       "      <td>424</td>\n",
       "      <td>106</td>\n",
       "      <td>38.54</td>\n",
       "      <td>271</td>\n",
       "      <td>156.45</td>\n",
       "      <td>1</td>\n",
       "      <td>2</td>\n",
       "      <td>44</td>\n",
       "      <td>15</td>\n",
       "    </tr>\n",
       "    <tr>\n",
       "      <th>69</th>\n",
       "      <td>70</td>\n",
       "      <td>Krishnappa Gowtham</td>\n",
       "      <td>2</td>\n",
       "      <td>2</td>\n",
       "      <td>1</td>\n",
       "      <td>42</td>\n",
       "      <td>22*</td>\n",
       "      <td>42.00</td>\n",
       "      <td>27</td>\n",
       "      <td>155.55</td>\n",
       "      <td>0</td>\n",
       "      <td>0</td>\n",
       "      <td>3</td>\n",
       "      <td>2</td>\n",
       "    </tr>\n",
       "    <tr>\n",
       "      <th>113</th>\n",
       "      <td>114</td>\n",
       "      <td>Dhawal Kulkarni</td>\n",
       "      <td>1</td>\n",
       "      <td>1</td>\n",
       "      <td>1</td>\n",
       "      <td>3</td>\n",
       "      <td>3*</td>\n",
       "      <td>0.00</td>\n",
       "      <td>2</td>\n",
       "      <td>150.00</td>\n",
       "      <td>0</td>\n",
       "      <td>0</td>\n",
       "      <td>0</td>\n",
       "      <td>0</td>\n",
       "    </tr>\n",
       "    <tr>\n",
       "      <th>19</th>\n",
       "      <td>20</td>\n",
       "      <td>Marcus Stoinis</td>\n",
       "      <td>17</td>\n",
       "      <td>17</td>\n",
       "      <td>3</td>\n",
       "      <td>352</td>\n",
       "      <td>65</td>\n",
       "      <td>25.14</td>\n",
       "      <td>237</td>\n",
       "      <td>148.52</td>\n",
       "      <td>0</td>\n",
       "      <td>3</td>\n",
       "      <td>31</td>\n",
       "      <td>16</td>\n",
       "    </tr>\n",
       "    <tr>\n",
       "      <th>68</th>\n",
       "      <td>69</td>\n",
       "      <td>Lockie Ferguson</td>\n",
       "      <td>5</td>\n",
       "      <td>2</td>\n",
       "      <td>2</td>\n",
       "      <td>43</td>\n",
       "      <td>24*</td>\n",
       "      <td>0.00</td>\n",
       "      <td>29</td>\n",
       "      <td>148.27</td>\n",
       "      <td>0</td>\n",
       "      <td>0</td>\n",
       "      <td>4</td>\n",
       "      <td>1</td>\n",
       "    </tr>\n",
       "    <tr>\n",
       "      <th>41</th>\n",
       "      <td>42</td>\n",
       "      <td>Shimron Hetmyer</td>\n",
       "      <td>12</td>\n",
       "      <td>11</td>\n",
       "      <td>3</td>\n",
       "      <td>185</td>\n",
       "      <td>45</td>\n",
       "      <td>23.12</td>\n",
       "      <td>125</td>\n",
       "      <td>148.00</td>\n",
       "      <td>0</td>\n",
       "      <td>0</td>\n",
       "      <td>11</td>\n",
       "      <td>12</td>\n",
       "    </tr>\n",
       "    <tr>\n",
       "      <th>4</th>\n",
       "      <td>5</td>\n",
       "      <td>Ishan Kishan</td>\n",
       "      <td>14</td>\n",
       "      <td>13</td>\n",
       "      <td>4</td>\n",
       "      <td>516</td>\n",
       "      <td>99</td>\n",
       "      <td>57.33</td>\n",
       "      <td>354</td>\n",
       "      <td>145.76</td>\n",
       "      <td>0</td>\n",
       "      <td>4</td>\n",
       "      <td>36</td>\n",
       "      <td>30</td>\n",
       "    </tr>\n",
       "    <tr>\n",
       "      <th>6</th>\n",
       "      <td>7</td>\n",
       "      <td>Suryakumar Yadav</td>\n",
       "      <td>16</td>\n",
       "      <td>15</td>\n",
       "      <td>3</td>\n",
       "      <td>480</td>\n",
       "      <td>79*</td>\n",
       "      <td>40.00</td>\n",
       "      <td>331</td>\n",
       "      <td>145.01</td>\n",
       "      <td>0</td>\n",
       "      <td>4</td>\n",
       "      <td>61</td>\n",
       "      <td>11</td>\n",
       "    </tr>\n",
       "  </tbody>\n",
       "</table>\n",
       "</div>"
      ],
      "text/plain": [
       "     POS               Player  Mat  Inns  NO  Runs   HS    Avg   BF      SR  \\\n",
       "31    32       Kieron Pollard   16    12   7   268  60*  53.60  140  191.42   \n",
       "50    51         Jofra Archer   14    10   4   113  27*  18.83   63  179.36   \n",
       "29    30        Hardik Pandya   14    13   5   281  60*  35.12  157  178.98   \n",
       "83    84     Tushar Deshpande    5     2   1    21  20*  21.00   12  175.00   \n",
       "33    34      Ravindra Jadeja   14    11   6   232   50  46.40  135  171.85   \n",
       "53    54          Abdul Samad   12     8   3   111   33  22.20   65  170.76   \n",
       "17    18      Nicholas Pooran   14    14   4   353   77  35.30  208  169.71   \n",
       "81    82  Nathan Coulter-Nile    7     2   1    25  24*  25.00   15  166.66   \n",
       "110  111       Jasprit Bumrah   15     1   1     5   5*   0.00    3  166.66   \n",
       "74    75         Chris Morris    9     5   1    34  25*   8.50   21  161.90   \n",
       "15    16         Sanju Samson   14    14   1   375   85  28.84  236  158.89   \n",
       "9     10       AB de Villiers   15    14   4   454  73*  45.40  286  158.74   \n",
       "13    14       Mayank Agarwal   11    11   0   424  106  38.54  271  156.45   \n",
       "69    70   Krishnappa Gowtham    2     2   1    42  22*  42.00   27  155.55   \n",
       "113  114      Dhawal Kulkarni    1     1   1     3   3*   0.00    2  150.00   \n",
       "19    20       Marcus Stoinis   17    17   3   352   65  25.14  237  148.52   \n",
       "68    69      Lockie Ferguson    5     2   2    43  24*   0.00   29  148.27   \n",
       "41    42      Shimron Hetmyer   12    11   3   185   45  23.12  125  148.00   \n",
       "4      5         Ishan Kishan   14    13   4   516   99  57.33  354  145.76   \n",
       "6      7     Suryakumar Yadav   16    15   3   480  79*  40.00  331  145.01   \n",
       "\n",
       "     100  50  4s  6s  \n",
       "31     0   1  15  22  \n",
       "50     0   0   5  10  \n",
       "29     0   1  14  25  \n",
       "83     0   0   2   1  \n",
       "33     0   1  22  11  \n",
       "53     0   0   8   6  \n",
       "17     0   2  23  25  \n",
       "81     0   0   4   0  \n",
       "110    0   0   0   0  \n",
       "74     0   0   2   3  \n",
       "15     0   3  21  26  \n",
       "9      0   5  33  23  \n",
       "13     1   2  44  15  \n",
       "69     0   0   3   2  \n",
       "113    0   0   0   0  \n",
       "19     0   3  31  16  \n",
       "68     0   0   4   1  \n",
       "41     0   0  11  12  \n",
       "4      0   4  36  30  \n",
       "6      0   4  61  11  "
      ]
     },
     "execution_count": 16,
     "metadata": {},
     "output_type": "execute_result"
    }
   ],
   "source": [
    "data1 = ipl_data.sort_values(['SR', 'Player'], ascending=False)\n",
    "top_20=data1.head(20)\n",
    "top_20"
   ]
  },
  {
   "cell_type": "code",
   "execution_count": 17,
   "id": "c42ec06e",
   "metadata": {},
   "outputs": [
    {
     "data": {
      "text/plain": [
       "166.66    2\n",
       "191.42    1\n",
       "158.74    1\n",
       "145.76    1\n",
       "148.00    1\n",
       "148.27    1\n",
       "148.52    1\n",
       "150.00    1\n",
       "155.55    1\n",
       "156.45    1\n",
       "158.89    1\n",
       "179.36    1\n",
       "161.90    1\n",
       "169.71    1\n",
       "170.76    1\n",
       "171.85    1\n",
       "175.00    1\n",
       "178.98    1\n",
       "145.01    1\n",
       "Name: SR, dtype: int64"
      ]
     },
     "execution_count": 17,
     "metadata": {},
     "output_type": "execute_result"
    }
   ],
   "source": [
    "grouping_SR= top_20['SR'].value_counts()\n",
    "grouping_SR"
   ]
  },
  {
   "cell_type": "code",
   "execution_count": 18,
   "id": "df803195",
   "metadata": {
    "scrolled": true
   },
   "outputs": [
    {
     "data": {
      "text/plain": [
       "<AxesSubplot:title={'center':'Top 20 players with best strike rate in a season'}, xlabel='Strike rate', ylabel='No of players'>"
      ]
     },
     "execution_count": 18,
     "metadata": {},
     "output_type": "execute_result"
    },
    {
     "data": {
      "image/png": "[encoded data removed]",
      "text/plain": [
       "<Figure size 640x480 with 1 Axes>"
      ]
     },
     "metadata": {},
     "output_type": "display_data"
    }
   ],
   "source": [
    "grouping_SR.plot.bar(sort_columns= True,title=\"Top 20 players with best strike rate in a season\",xlabel='Strike rate',ylabel='No of players')"
   ]
  },
  {
   "cell_type": "markdown",
   "id": "fe9d25a1",
   "metadata": {},
   "source": [
    "### Q15. Top 30 players with highest number of sixes."
   ]
  },
  {
   "cell_type": "code",
   "execution_count": 9,
   "id": "9ddda30f",
   "metadata": {
    "scrolled": false
   },
   "outputs": [
    {
     "data": {
      "text/html": [
       "<div>\n",
       "<style scoped>\n",
       "    .dataframe tbody tr th:only-of-type {\n",
       "        vertical-align: middle;\n",
       "    }\n",
       "\n",
       "    .dataframe tbody tr th {\n",
       "        vertical-align: top;\n",
       "    }\n",
       "\n",
       "    .dataframe thead th {\n",
       "        text-align: right;\n",
       "    }\n",
       "</style>\n",
       "<table border=\"1\" class=\"dataframe\">\n",
       "  <thead>\n",
       "    <tr style=\"text-align: right;\">\n",
       "      <th></th>\n",
       "      <th>Player</th>\n",
       "      <th>6s</th>\n",
       "    </tr>\n",
       "  </thead>\n",
       "  <tbody>\n",
       "    <tr>\n",
       "      <th>4</th>\n",
       "      <td>Ishan Kishan</td>\n",
       "      <td>30</td>\n",
       "    </tr>\n",
       "    <tr>\n",
       "      <th>15</th>\n",
       "      <td>Sanju Samson</td>\n",
       "      <td>26</td>\n",
       "    </tr>\n",
       "    <tr>\n",
       "      <th>17</th>\n",
       "      <td>Nicholas Pooran</td>\n",
       "      <td>25</td>\n",
       "    </tr>\n",
       "    <tr>\n",
       "      <th>29</th>\n",
       "      <td>Hardik Pandya</td>\n",
       "      <td>25</td>\n",
       "    </tr>\n",
       "    <tr>\n",
       "      <th>14</th>\n",
       "      <td>Eoin Morgan</td>\n",
       "      <td>24</td>\n",
       "    </tr>\n",
       "    <tr>\n",
       "      <th>0</th>\n",
       "      <td>KL Rahul</td>\n",
       "      <td>23</td>\n",
       "    </tr>\n",
       "    <tr>\n",
       "      <th>27</th>\n",
       "      <td>Chris Gayle</td>\n",
       "      <td>23</td>\n",
       "    </tr>\n",
       "    <tr>\n",
       "      <th>9</th>\n",
       "      <td>AB de Villiers</td>\n",
       "      <td>23</td>\n",
       "    </tr>\n",
       "    <tr>\n",
       "      <th>5</th>\n",
       "      <td>Quinton de Kock</td>\n",
       "      <td>22</td>\n",
       "    </tr>\n",
       "    <tr>\n",
       "      <th>31</th>\n",
       "      <td>Kieron Pollard</td>\n",
       "      <td>22</td>\n",
       "    </tr>\n",
       "    <tr>\n",
       "      <th>22</th>\n",
       "      <td>Rohit Sharma</td>\n",
       "      <td>19</td>\n",
       "    </tr>\n",
       "    <tr>\n",
       "      <th>12</th>\n",
       "      <td>Manish Pandey</td>\n",
       "      <td>18</td>\n",
       "    </tr>\n",
       "    <tr>\n",
       "      <th>32</th>\n",
       "      <td>Rahul Tewatia</td>\n",
       "      <td>17</td>\n",
       "    </tr>\n",
       "    <tr>\n",
       "      <th>3</th>\n",
       "      <td>Shreyas Iyer</td>\n",
       "      <td>16</td>\n",
       "    </tr>\n",
       "    <tr>\n",
       "      <th>19</th>\n",
       "      <td>Marcus Stoinis</td>\n",
       "      <td>16</td>\n",
       "    </tr>\n",
       "    <tr>\n",
       "      <th>23</th>\n",
       "      <td>Jos Buttler</td>\n",
       "      <td>16</td>\n",
       "    </tr>\n",
       "    <tr>\n",
       "      <th>13</th>\n",
       "      <td>Mayank Agarwal</td>\n",
       "      <td>15</td>\n",
       "    </tr>\n",
       "    <tr>\n",
       "      <th>10</th>\n",
       "      <td>Faf du Plessis</td>\n",
       "      <td>14</td>\n",
       "    </tr>\n",
       "    <tr>\n",
       "      <th>2</th>\n",
       "      <td>David Warner</td>\n",
       "      <td>14</td>\n",
       "    </tr>\n",
       "    <tr>\n",
       "      <th>26</th>\n",
       "      <td>Shane Watson</td>\n",
       "      <td>13</td>\n",
       "    </tr>\n",
       "    <tr>\n",
       "      <th>20</th>\n",
       "      <td>Jonny Bairstow</td>\n",
       "      <td>13</td>\n",
       "    </tr>\n",
       "    <tr>\n",
       "      <th>41</th>\n",
       "      <td>Shimron Hetmyer</td>\n",
       "      <td>12</td>\n",
       "    </tr>\n",
       "    <tr>\n",
       "      <th>1</th>\n",
       "      <td>Shikhar Dhawan</td>\n",
       "      <td>12</td>\n",
       "    </tr>\n",
       "    <tr>\n",
       "      <th>40</th>\n",
       "      <td>Sam Curran</td>\n",
       "      <td>12</td>\n",
       "    </tr>\n",
       "    <tr>\n",
       "      <th>18</th>\n",
       "      <td>Nitish Rana</td>\n",
       "      <td>12</td>\n",
       "    </tr>\n",
       "    <tr>\n",
       "      <th>16</th>\n",
       "      <td>Ambati Rayudu</td>\n",
       "      <td>12</td>\n",
       "    </tr>\n",
       "    <tr>\n",
       "      <th>8</th>\n",
       "      <td>Virat Kohli</td>\n",
       "      <td>11</td>\n",
       "    </tr>\n",
       "    <tr>\n",
       "      <th>6</th>\n",
       "      <td>Suryakumar Yadav</td>\n",
       "      <td>11</td>\n",
       "    </tr>\n",
       "    <tr>\n",
       "      <th>33</th>\n",
       "      <td>Ravindra Jadeja</td>\n",
       "      <td>11</td>\n",
       "    </tr>\n",
       "    <tr>\n",
       "      <th>34</th>\n",
       "      <td>Rahul Tripathi</td>\n",
       "      <td>10</td>\n",
       "    </tr>\n",
       "  </tbody>\n",
       "</table>\n",
       "</div>"
      ],
      "text/plain": [
       "              Player  6s\n",
       "4       Ishan Kishan  30\n",
       "15      Sanju Samson  26\n",
       "17   Nicholas Pooran  25\n",
       "29     Hardik Pandya  25\n",
       "14       Eoin Morgan  24\n",
       "0           KL Rahul  23\n",
       "27       Chris Gayle  23\n",
       "9     AB de Villiers  23\n",
       "5    Quinton de Kock  22\n",
       "31    Kieron Pollard  22\n",
       "22      Rohit Sharma  19\n",
       "12     Manish Pandey  18\n",
       "32     Rahul Tewatia  17\n",
       "3       Shreyas Iyer  16\n",
       "19    Marcus Stoinis  16\n",
       "23       Jos Buttler  16\n",
       "13    Mayank Agarwal  15\n",
       "10    Faf du Plessis  14\n",
       "2       David Warner  14\n",
       "26      Shane Watson  13\n",
       "20    Jonny Bairstow  13\n",
       "41   Shimron Hetmyer  12\n",
       "1     Shikhar Dhawan  12\n",
       "40        Sam Curran  12\n",
       "18       Nitish Rana  12\n",
       "16     Ambati Rayudu  12\n",
       "8        Virat Kohli  11\n",
       "6   Suryakumar Yadav  11\n",
       "33   Ravindra Jadeja  11\n",
       "34    Rahul Tripathi  10"
      ]
     },
     "execution_count": 9,
     "metadata": {},
     "output_type": "execute_result"
    }
   ],
   "source": [
    "six_ipl_data = ipl_data.sort_values(['6s', 'Player'], ascending=False)\n",
    "six_ipl_data[['Player','6s']].head(30)"
   ]
  },
  {
   "cell_type": "markdown",
   "id": "7c3d2d60",
   "metadata": {},
   "source": [
    "### Q16. Scatter plot of runs scored by a player v/s balls faced in a season."
   ]
  },
  {
   "cell_type": "code",
   "execution_count": 27,
   "id": "04a2886f",
   "metadata": {},
   "outputs": [
    {
     "data": {
      "text/plain": [
       "<seaborn.axisgrid.FacetGrid at 0x2b430b3b790>"
      ]
     },
     "execution_count": 27,
     "metadata": {},
     "output_type": "execute_result"
    },
    {
     "data": {
      "image/png": "[encoded data removed]",
      "text/plain": [
       "<Figure size 576.625x500 with 1 Axes>"
      ]
     },
     "metadata": {},
     "output_type": "display_data"
    }
   ],
   "source": [
    "sns.relplot(x = 'Runs' , y = 'BF' , data = ipl_data, hue='Runs')"
   ]
  },
  {
   "cell_type": "code",
   "execution_count": 30,
   "id": "528527c9",
   "metadata": {},
   "outputs": [
    {
     "data": {
      "application/vnd.plotly.v1+json": {
       "config": {
        "plotlyServerURL": "https://plot.ly"
       },
       "data": [
        {
         "mode": "markers",
         "type": "scatter",
         "x": [
          518,
          427,
          407,
          421,
          354,
          358,
          331,
          379,
          384,
          286,
          319,
          373,
          333,
          271,
          302,
          236,
          282,
          208,
          254,
          237,
          272,
          301,
          260,
          227,
          237,
          237,
          247,
          210,
          200,
          157,
          241,
          140,
          183,
          135,
          181,
          167,
          153,
          169,
          172,
          164,
          141,
          125,
          134,
          114,
          111,
          109,
          105,
          85,
          81,
          85,
          63,
          107,
          95,
          65,
          92,
          106,
          80,
          71,
          96,
          77,
          62,
          77,
          80,
          56,
          53,
          66,
          54,
          49,
          29,
          27,
          44,
          39,
          34,
          30,
          21,
          29,
          29,
          43,
          29,
          31,
          27,
          15,
          31,
          12,
          24,
          18,
          20,
          14,
          14,
          15,
          11,
          13,
          21,
          10,
          16,
          15,
          21,
          8,
          11,
          14,
          15,
          13,
          10,
          6,
          8,
          13,
          6,
          12,
          12,
          6,
          3,
          6,
          4,
          2,
          5,
          4,
          4,
          3,
          3,
          3,
          2,
          10,
          1,
          3,
          1,
          2,
          2,
          2,
          2,
          3,
          2,
          4,
          1
         ],
         "y": [
          670,
          618,
          548,
          519,
          516,
          503,
          480,
          473,
          466,
          454,
          449,
          440,
          425,
          424,
          418,
          375,
          359,
          353,
          352,
          352,
          345,
          343,
          332,
          328,
          317,
          311,
          299,
          288,
          285,
          281,
          268,
          268,
          255,
          232,
          230,
          228,
          214,
          204,
          200,
          196,
          186,
          185,
          169,
          146,
          133,
          130,
          129,
          121,
          117,
          117,
          113,
          113,
          111,
          111,
          109,
          108,
          103,
          101,
          97,
          86,
          83,
          78,
          71,
          71,
          66,
          62,
          59,
          56,
          43,
          42,
          40,
          37,
          37,
          35,
          34,
          33,
          33,
          32,
          32,
          29,
          27,
          25,
          22,
          21,
          21,
          19,
          18,
          17,
          16,
          15,
          15,
          15,
          13,
          13,
          12,
          12,
          12,
          11,
          11,
          10,
          10,
          9,
          9,
          7,
          7,
          7,
          7,
          7,
          7,
          6,
          5,
          4,
          4,
          3,
          3,
          2,
          2,
          2,
          1,
          1,
          1,
          1,
          1,
          1,
          0,
          0,
          0,
          0,
          0,
          0,
          0,
          0,
          0
         ]
        }
       ],
       "layout": {
        "template": {
         "data": {
          "bar": [
           {
            "error_x": {
             "color": "#2a3f5f"
            },
            "error_y": {
             "color": "#2a3f5f"
            },
            "marker": {
             "line": {
              "color": "#E5ECF6",
              "width": 0.5
             },
             "pattern": {
              "fillmode": "overlay",
              "size": 10,
              "solidity": 0.2
             }
            },
            "type": "bar"
           }
          ],
          "barpolar": [
           {
            "marker": {
             "line": {
              "color": "#E5ECF6",
              "width": 0.5
             },
             "pattern": {
              "fillmode": "overlay",
              "size": 10,
              "solidity": 0.2
             }
            },
            "type": "barpolar"
           }
          ],
          "carpet": [
           {
            "aaxis": {
             "endlinecolor": "#2a3f5f",
             "gridcolor": "white",
             "linecolor": "white",
             "minorgridcolor": "white",
             "startlinecolor": "#2a3f5f"
            },
            "baxis": {
             "endlinecolor": "#2a3f5f",
             "gridcolor": "white",
             "linecolor": "white",
             "minorgridcolor": "white",
             "startlinecolor": "#2a3f5f"
            },
            "type": "carpet"
           }
          ],
          "choropleth": [
           {
            "colorbar": {
             "outlinewidth": 0,
             "ticks": ""
            },
            "type": "choropleth"
           }
          ],
          "contour": [
           {
            "colorbar": {
             "outlinewidth": 0,
             "ticks": ""
            },
            "colorscale": [
             [
              0,
              "#0d0887"
             ],
             [
              0.1111111111111111,
              "#46039f"
             ],
             [
              0.2222222222222222,
              "#7201a8"
             ],
             [
              0.3333333333333333,
              "#9c179e"
             ],
             [
              0.4444444444444444,
              "#bd3786"
             ],
             [
              0.5555555555555556,
              "#d8576b"
             ],
             [
              0.6666666666666666,
              "#ed7953"
             ],
             [
              0.7777777777777778,
              "#fb9f3a"
             ],
             [
              0.8888888888888888,
              "#fdca26"
             ],
             [
              1,
              "#f0f921"
             ]
            ],
            "type": "contour"
           }
          ],
          "contourcarpet": [
           {
            "colorbar": {
             "outlinewidth": 0,
             "ticks": ""
            },
            "type": "contourcarpet"
           }
          ],
          "heatmap": [
           {
            "colorbar": {
             "outlinewidth": 0,
             "ticks": ""
            },
            "colorscale": [
             [
              0,
              "#0d0887"
             ],
             [
              0.1111111111111111,
              "#46039f"
             ],
             [
              0.2222222222222222,
              "#7201a8"
             ],
             [
              0.3333333333333333,
              "#9c179e"
             ],
             [
              0.4444444444444444,
              "#bd3786"
             ],
             [
              0.5555555555555556,
              "#d8576b"
             ],
             [
              0.6666666666666666,
              "#ed7953"
             ],
             [
              0.7777777777777778,
              "#fb9f3a"
             ],
             [
              0.8888888888888888,
              "#fdca26"
             ],
             [
              1,
              "#f0f921"
             ]
            ],
            "type": "heatmap"
           }
          ],
          "heatmapgl": [
           {
            "colorbar": {
             "outlinewidth": 0,
             "ticks": ""
            },
            "colorscale": [
             [
              0,
              "#0d0887"
             ],
             [
              0.1111111111111111,
              "#46039f"
             ],
             [
              0.2222222222222222,
              "#7201a8"
             ],
             [
              0.3333333333333333,
              "#9c179e"
             ],
             [
              0.4444444444444444,
              "#bd3786"
             ],
             [
              0.5555555555555556,
              "#d8576b"
             ],
             [
              0.6666666666666666,
              "#ed7953"
             ],
             [
              0.7777777777777778,
              "#fb9f3a"
             ],
             [
              0.8888888888888888,
              "#fdca26"
             ],
             [
              1,
              "#f0f921"
             ]
            ],
            "type": "heatmapgl"
           }
          ],
          "histogram": [
           {
            "marker": {
             "pattern": {
              "fillmode": "overlay",
              "size": 10,
              "solidity": 0.2
             }
            },
            "type": "histogram"
           }
          ],
          "histogram2d": [
           {
            "colorbar": {
             "outlinewidth": 0,
             "ticks": ""
            },
            "colorscale": [
             [
              0,
              "#0d0887"
             ],
             [
              0.1111111111111111,
              "#46039f"
             ],
             [
              0.2222222222222222,
              "#7201a8"
             ],
             [
              0.3333333333333333,
              "#9c179e"
             ],
             [
              0.4444444444444444,
              "#bd3786"
             ],
             [
              0.5555555555555556,
              "#d8576b"
             ],
             [
              0.6666666666666666,
              "#ed7953"
             ],
             [
              0.7777777777777778,
              "#fb9f3a"
             ],
             [
              0.8888888888888888,
              "#fdca26"
             ],
             [
              1,
              "#f0f921"
             ]
            ],
            "type": "histogram2d"
           }
          ],
          "histogram2dcontour": [
           {
            "colorbar": {
             "outlinewidth": 0,
             "ticks": ""
            },
            "colorscale": [
             [
              0,
              "#0d0887"
             ],
             [
              0.1111111111111111,
              "#46039f"
             ],
             [
              0.2222222222222222,
              "#7201a8"
             ],
             [
              0.3333333333333333,
              "#9c179e"
             ],
             [
              0.4444444444444444,
              "#bd3786"
             ],
             [
              0.5555555555555556,
              "#d8576b"
             ],
             [
              0.6666666666666666,
              "#ed7953"
             ],
             [
              0.7777777777777778,
              "#fb9f3a"
             ],
             [
              0.8888888888888888,
              "#fdca26"
             ],
             [
              1,
              "#f0f921"
             ]
            ],
            "type": "histogram2dcontour"
           }
          ],
          "mesh3d": [
           {
            "colorbar": {
             "outlinewidth": 0,
             "ticks": ""
            },
            "type": "mesh3d"
           }
          ],
          "parcoords": [
           {
            "line": {
             "colorbar": {
              "outlinewidth": 0,
              "ticks": ""
             }
            },
            "type": "parcoords"
           }
          ],
          "pie": [
           {
            "automargin": true,
            "type": "pie"
           }
          ],
          "scatter": [
           {
            "fillpattern": {
             "fillmode": "overlay",
             "size": 10,
             "solidity": 0.2
            },
            "type": "scatter"
           }
          ],
          "scatter3d": [
           {
            "line": {
             "colorbar": {
              "outlinewidth": 0,
              "ticks": ""
             }
            },
            "marker": {
             "colorbar": {
              "outlinewidth": 0,
              "ticks": ""
             }
            },
            "type": "scatter3d"
           }
          ],
          "scattercarpet": [
           {
            "marker": {
             "colorbar": {
              "outlinewidth": 0,
              "ticks": ""
             }
            },
            "type": "scattercarpet"
           }
          ],
          "scattergeo": [
           {
            "marker": {
             "colorbar": {
              "outlinewidth": 0,
              "ticks": ""
             }
            },
            "type": "scattergeo"
           }
          ],
          "scattergl": [
           {
            "marker": {
             "colorbar": {
              "outlinewidth": 0,
              "ticks": ""
             }
            },
            "type": "scattergl"
           }
          ],
          "scattermapbox": [
           {
            "marker": {
             "colorbar": {
              "outlinewidth": 0,
              "ticks": ""
             }
            },
            "type": "scattermapbox"
           }
          ],
          "scatterpolar": [
           {
            "marker": {
             "colorbar": {
              "outlinewidth": 0,
              "ticks": ""
             }
            },
            "type": "scatterpolar"
           }
          ],
          "scatterpolargl": [
           {
            "marker": {
             "colorbar": {
              "outlinewidth": 0,
              "ticks": ""
             }
            },
            "type": "scatterpolargl"
           }
          ],
          "scatterternary": [
           {
            "marker": {
             "colorbar": {
              "outlinewidth": 0,
              "ticks": ""
             }
            },
            "type": "scatterternary"
           }
          ],
          "surface": [
           {
            "colorbar": {
             "outlinewidth": 0,
             "ticks": ""
            },
            "colorscale": [
             [
              0,
              "#0d0887"
             ],
             [
              0.1111111111111111,
              "#46039f"
             ],
             [
              0.2222222222222222,
              "#7201a8"
             ],
             [
              0.3333333333333333,
              "#9c179e"
             ],
             [
              0.4444444444444444,
              "#bd3786"
             ],
             [
              0.5555555555555556,
              "#d8576b"
             ],
             [
              0.6666666666666666,
              "#ed7953"
             ],
             [
              0.7777777777777778,
              "#fb9f3a"
             ],
             [
              0.8888888888888888,
              "#fdca26"
             ],
             [
              1,
              "#f0f921"
             ]
            ],
            "type": "surface"
           }
          ],
          "table": [
           {
            "cells": {
             "fill": {
              "color": "#EBF0F8"
             },
             "line": {
              "color": "white"
             }
            },
            "header": {
             "fill": {
              "color": "#C8D4E3"
             },
             "line": {
              "color": "white"
             }
            },
            "type": "table"
           }
          ]
         },
         "layout": {
          "annotationdefaults": {
           "arrowcolor": "#2a3f5f",
           "arrowhead": 0,
           "arrowwidth": 1
          },
          "autotypenumbers": "strict",
          "coloraxis": {
           "colorbar": {
            "outlinewidth": 0,
            "ticks": ""
           }
          },
          "colorscale": {
           "diverging": [
            [
             0,
             "#8e0152"
            ],
            [
             0.1,
             "#c51b7d"
            ],
            [
             0.2,
             "#de77ae"
            ],
            [
             0.3,
             "#f1b6da"
            ],
            [
             0.4,
             "#fde0ef"
            ],
            [
             0.5,
             "#f7f7f7"
            ],
            [
             0.6,
             "#e6f5d0"
            ],
            [
             0.7,
             "#b8e186"
            ],
            [
             0.8,
             "#7fbc41"
            ],
            [
             0.9,
             "#4d9221"
            ],
            [
             1,
             "#276419"
            ]
           ],
           "sequential": [
            [
             0,
             "#0d0887"
            ],
            [
             0.1111111111111111,
             "#46039f"
            ],
            [
             0.2222222222222222,
             "#7201a8"
            ],
            [
             0.3333333333333333,
             "#9c179e"
            ],
            [
             0.4444444444444444,
             "#bd3786"
            ],
            [
             0.5555555555555556,
             "#d8576b"
            ],
            [
             0.6666666666666666,
             "#ed7953"
            ],
            [
             0.7777777777777778,
             "#fb9f3a"
            ],
            [
             0.8888888888888888,
             "#fdca26"
            ],
            [
             1,
             "#f0f921"
            ]
           ],
           "sequentialminus": [
            [
             0,
             "#0d0887"
            ],
            [
             0.1111111111111111,
             "#46039f"
            ],
            [
             0.2222222222222222,
             "#7201a8"
            ],
            [
             0.3333333333333333,
             "#9c179e"
            ],
            [
             0.4444444444444444,
             "#bd3786"
            ],
            [
             0.5555555555555556,
             "#d8576b"
            ],
            [
             0.6666666666666666,
             "#ed7953"
            ],
            [
             0.7777777777777778,
             "#fb9f3a"
            ],
            [
             0.8888888888888888,
             "#fdca26"
            ],
            [
             1,
             "#f0f921"
            ]
           ]
          },
          "colorway": [
           "#636efa",
           "#EF553B",
           "#00cc96",
           "#ab63fa",
           "#FFA15A",
           "#19d3f3",
           "#FF6692",
           "#B6E880",
           "#FF97FF",
           "#FECB52"
          ],
          "font": {
           "color": "#2a3f5f"
          },
          "geo": {
           "bgcolor": "white",
           "lakecolor": "white",
           "landcolor": "#E5ECF6",
           "showlakes": true,
           "showland": true,
           "subunitcolor": "white"
          },
          "hoverlabel": {
           "align": "left"
          },
          "hovermode": "closest",
          "mapbox": {
           "style": "light"
          },
          "paper_bgcolor": "white",
          "plot_bgcolor": "#E5ECF6",
          "polar": {
           "angularaxis": {
            "gridcolor": "white",
            "linecolor": "white",
            "ticks": ""
           },
           "bgcolor": "#E5ECF6",
           "radialaxis": {
            "gridcolor": "white",
            "linecolor": "white",
            "ticks": ""
           }
          },
          "scene": {
           "xaxis": {
            "backgroundcolor": "#E5ECF6",
            "gridcolor": "white",
            "gridwidth": 2,
            "linecolor": "white",
            "showbackground": true,
            "ticks": "",
            "zerolinecolor": "white"
           },
           "yaxis": {
            "backgroundcolor": "#E5ECF6",
            "gridcolor": "white",
            "gridwidth": 2,
            "linecolor": "white",
            "showbackground": true,
            "ticks": "",
            "zerolinecolor": "white"
           },
           "zaxis": {
            "backgroundcolor": "#E5ECF6",
            "gridcolor": "white",
            "gridwidth": 2,
            "linecolor": "white",
            "showbackground": true,
            "ticks": "",
            "zerolinecolor": "white"
           }
          },
          "shapedefaults": {
           "line": {
            "color": "#2a3f5f"
           }
          },
          "ternary": {
           "aaxis": {
            "gridcolor": "white",
            "linecolor": "white",
            "ticks": ""
           },
           "baxis": {
            "gridcolor": "white",
            "linecolor": "white",
            "ticks": ""
           },
           "bgcolor": "#E5ECF6",
           "caxis": {
            "gridcolor": "white",
            "linecolor": "white",
            "ticks": ""
           }
          },
          "title": {
           "x": 0.05
          },
          "xaxis": {
           "automargin": true,
           "gridcolor": "white",
           "linecolor": "white",
           "ticks": "",
           "title": {
            "standoff": 15
           },
           "zerolinecolor": "white",
           "zerolinewidth": 2
          },
          "yaxis": {
           "automargin": true,
           "gridcolor": "white",
           "linecolor": "white",
           "ticks": "",
           "title": {
            "standoff": 15
           },
           "zerolinecolor": "white",
           "zerolinewidth": 2
          }
         }
        },
        "title": {
         "text": "Runs Scored vs Balls Faced"
        },
        "xaxis": {
         "title": {
          "text": "Balls Faced"
         }
        },
        "yaxis": {
         "title": {
          "text": "Runs Scored"
         }
        }
       }
      },
      "text/html": [
       "<div>                            <div id=\"6ada37bf-1dd0-422d-a1b6-f185a9de3920\" class=\"plotly-graph-div\" style=\"height:525px; width:100%;\"></div>            <script type=\"text/javascript\">                require([\"plotly\"], function(Plotly) {                    window.PLOTLYENV=window.PLOTLYENV || {};                                    if (document.getElementById(\"6ada37bf-1dd0-422d-a1b6-f185a9de3920\")) {                    Plotly.newPlot(                        \"6ada37bf-1dd0-422d-a1b6-f185a9de3920\",                        [{\"mode\":\"markers\",\"x\":[518,427,407,421,354,358,331,379,384,286,319,373,333,271,302,236,282,208,254,237,272,301,260,227,237,237,247,210,200,157,241,140,183,135,181,167,153,169,172,164,141,125,134,114,111,109,105,85,81,85,63,107,95,65,92,106,80,71,96,77,62,77,80,56,53,66,54,49,29,27,44,39,34,30,21,29,29,43,29,31,27,15,31,12,24,18,20,14,14,15,11,13,21,10,16,15,21,8,11,14,15,13,10,6,8,13,6,12,12,6,3,6,4,2,5,4,4,3,3,3,2,10,1,3,1,2,2,2,2,3,2,4,1],\"y\":[670,618,548,519,516,503,480,473,466,454,449,440,425,424,418,375,359,353,352,352,345,343,332,328,317,311,299,288,285,281,268,268,255,232,230,228,214,204,200,196,186,185,169,146,133,130,129,121,117,117,113,113,111,111,109,108,103,101,97,86,83,78,71,71,66,62,59,56,43,42,40,37,37,35,34,33,33,32,32,29,27,25,22,21,21,19,18,17,16,15,15,15,13,13,12,12,12,11,11,10,10,9,9,7,7,7,7,7,7,6,5,4,4,3,3,2,2,2,1,1,1,1,1,1,0,0,0,0,0,0,0,0,0],\"type\":\"scatter\"}],                        {\"title\":{\"text\":\"Runs Scored vs Balls Faced\"},\"xaxis\":{\"title\":{\"text\":\"Balls Faced\"}},\"yaxis\":{\"title\":{\"text\":\"Runs Scored\"}},\"template\":{\"data\":{\"histogram2dcontour\":[{\"type\":\"histogram2dcontour\",\"colorbar\":{\"outlinewidth\":0,\"ticks\":\"\"},\"colorscale\":[[0.0,\"#0d0887\"],[0.1111111111111111,\"#46039f\"],[0.2222222222222222,\"#7201a8\"],[0.3333333333333333,\"#9c179e\"],[0.4444444444444444,\"#bd3786\"],[0.5555555555555556,\"#d8576b\"],[0.6666666666666666,\"#ed7953\"],[0.7777777777777778,\"#fb9f3a\"],[0.8888888888888888,\"#fdca26\"],[1.0,\"#f0f921\"]]}],\"choropleth\":[{\"type\":\"choropleth\",\"colorbar\":{\"outlinewidth\":0,\"ticks\":\"\"}}],\"histogram2d\":[{\"type\":\"histogram2d\",\"colorbar\":{\"outlinewidth\":0,\"ticks\":\"\"},\"colorscale\":[[0.0,\"#0d0887\"],[0.1111111111111111,\"#46039f\"],[0.2222222222222222,\"#7201a8\"],[0.3333333333333333,\"#9c179e\"],[0.4444444444444444,\"#bd3786\"],[0.5555555555555556,\"#d8576b\"],[0.6666666666666666,\"#ed7953\"],[0.7777777777777778,\"#fb9f3a\"],[0.8888888888888888,\"#fdca26\"],[1.0,\"#f0f921\"]]}],\"heatmap\":[{\"type\":\"heatmap\",\"colorbar\":{\"outlinewidth\":0,\"ticks\":\"\"},\"colorscale\":[[0.0,\"#0d0887\"],[0.1111111111111111,\"#46039f\"],[0.2222222222222222,\"#7201a8\"],[0.3333333333333333,\"#9c179e\"],[0.4444444444444444,\"#bd3786\"],[0.5555555555555556,\"#d8576b\"],[0.6666666666666666,\"#ed7953\"],[0.7777777777777778,\"#fb9f3a\"],[0.8888888888888888,\"#fdca26\"],[1.0,\"#f0f921\"]]}],\"heatmapgl\":[{\"type\":\"heatmapgl\",\"colorbar\":{\"outlinewidth\":0,\"ticks\":\"\"},\"colorscale\":[[0.0,\"#0d0887\"],[0.1111111111111111,\"#46039f\"],[0.2222222222222222,\"#7201a8\"],[0.3333333333333333,\"#9c179e\"],[0.4444444444444444,\"#bd3786\"],[0.5555555555555556,\"#d8576b\"],[0.6666666666666666,\"#ed7953\"],[0.7777777777777778,\"#fb9f3a\"],[0.8888888888888888,\"#fdca26\"],[1.0,\"#f0f921\"]]}],\"contourcarpet\":[{\"type\":\"contourcarpet\",\"colorbar\":{\"outlinewidth\":0,\"ticks\":\"\"}}],\"contour\":[{\"type\":\"contour\",\"colorbar\":{\"outlinewidth\":0,\"ticks\":\"\"},\"colorscale\":[[0.0,\"#0d0887\"],[0.1111111111111111,\"#46039f\"],[0.2222222222222222,\"#7201a8\"],[0.3333333333333333,\"#9c179e\"],[0.4444444444444444,\"#bd3786\"],[0.5555555555555556,\"#d8576b\"],[0.6666666666666666,\"#ed7953\"],[0.7777777777777778,\"#fb9f3a\"],[0.8888888888888888,\"#fdca26\"],[1.0,\"#f0f921\"]]}],\"surface\":[{\"type\":\"surface\",\"colorbar\":{\"outlinewidth\":0,\"ticks\":\"\"},\"colorscale\":[[0.0,\"#0d0887\"],[0.1111111111111111,\"#46039f\"],[0.2222222222222222,\"#7201a8\"],[0.3333333333333333,\"#9c179e\"],[0.4444444444444444,\"#bd3786\"],[0.5555555555555556,\"#d8576b\"],[0.6666666666666666,\"#ed7953\"],[0.7777777777777778,\"#fb9f3a\"],[0.8888888888888888,\"#fdca26\"],[1.0,\"#f0f921\"]]}],\"mesh3d\":[{\"type\":\"mesh3d\",\"colorbar\":{\"outlinewidth\":0,\"ticks\":\"\"}}],\"scatter\":[{\"fillpattern\":{\"fillmode\":\"overlay\",\"size\":10,\"solidity\":0.2},\"type\":\"scatter\"}],\"parcoords\":[{\"type\":\"parcoords\",\"line\":{\"colorbar\":{\"outlinewidth\":0,\"ticks\":\"\"}}}],\"scatterpolargl\":[{\"type\":\"scatterpolargl\",\"marker\":{\"colorbar\":{\"outlinewidth\":0,\"ticks\":\"\"}}}],\"bar\":[{\"error_x\":{\"color\":\"#2a3f5f\"},\"error_y\":{\"color\":\"#2a3f5f\"},\"marker\":{\"line\":{\"color\":\"#E5ECF6\",\"width\":0.5},\"pattern\":{\"fillmode\":\"overlay\",\"size\":10,\"solidity\":0.2}},\"type\":\"bar\"}],\"scattergeo\":[{\"type\":\"scattergeo\",\"marker\":{\"colorbar\":{\"outlinewidth\":0,\"ticks\":\"\"}}}],\"scatterpolar\":[{\"type\":\"scatterpolar\",\"marker\":{\"colorbar\":{\"outlinewidth\":0,\"ticks\":\"\"}}}],\"histogram\":[{\"marker\":{\"pattern\":{\"fillmode\":\"overlay\",\"size\":10,\"solidity\":0.2}},\"type\":\"histogram\"}],\"scattergl\":[{\"type\":\"scattergl\",\"marker\":{\"colorbar\":{\"outlinewidth\":0,\"ticks\":\"\"}}}],\"scatter3d\":[{\"type\":\"scatter3d\",\"line\":{\"colorbar\":{\"outlinewidth\":0,\"ticks\":\"\"}},\"marker\":{\"colorbar\":{\"outlinewidth\":0,\"ticks\":\"\"}}}],\"scattermapbox\":[{\"type\":\"scattermapbox\",\"marker\":{\"colorbar\":{\"outlinewidth\":0,\"ticks\":\"\"}}}],\"scatterternary\":[{\"type\":\"scatterternary\",\"marker\":{\"colorbar\":{\"outlinewidth\":0,\"ticks\":\"\"}}}],\"scattercarpet\":[{\"type\":\"scattercarpet\",\"marker\":{\"colorbar\":{\"outlinewidth\":0,\"ticks\":\"\"}}}],\"carpet\":[{\"aaxis\":{\"endlinecolor\":\"#2a3f5f\",\"gridcolor\":\"white\",\"linecolor\":\"white\",\"minorgridcolor\":\"white\",\"startlinecolor\":\"#2a3f5f\"},\"baxis\":{\"endlinecolor\":\"#2a3f5f\",\"gridcolor\":\"white\",\"linecolor\":\"white\",\"minorgridcolor\":\"white\",\"startlinecolor\":\"#2a3f5f\"},\"type\":\"carpet\"}],\"table\":[{\"cells\":{\"fill\":{\"color\":\"#EBF0F8\"},\"line\":{\"color\":\"white\"}},\"header\":{\"fill\":{\"color\":\"#C8D4E3\"},\"line\":{\"color\":\"white\"}},\"type\":\"table\"}],\"barpolar\":[{\"marker\":{\"line\":{\"color\":\"#E5ECF6\",\"width\":0.5},\"pattern\":{\"fillmode\":\"overlay\",\"size\":10,\"solidity\":0.2}},\"type\":\"barpolar\"}],\"pie\":[{\"automargin\":true,\"type\":\"pie\"}]},\"layout\":{\"autotypenumbers\":\"strict\",\"colorway\":[\"#636efa\",\"#EF553B\",\"#00cc96\",\"#ab63fa\",\"#FFA15A\",\"#19d3f3\",\"#FF6692\",\"#B6E880\",\"#FF97FF\",\"#FECB52\"],\"font\":{\"color\":\"#2a3f5f\"},\"hovermode\":\"closest\",\"hoverlabel\":{\"align\":\"left\"},\"paper_bgcolor\":\"white\",\"plot_bgcolor\":\"#E5ECF6\",\"polar\":{\"bgcolor\":\"#E5ECF6\",\"angularaxis\":{\"gridcolor\":\"white\",\"linecolor\":\"white\",\"ticks\":\"\"},\"radialaxis\":{\"gridcolor\":\"white\",\"linecolor\":\"white\",\"ticks\":\"\"}},\"ternary\":{\"bgcolor\":\"#E5ECF6\",\"aaxis\":{\"gridcolor\":\"white\",\"linecolor\":\"white\",\"ticks\":\"\"},\"baxis\":{\"gridcolor\":\"white\",\"linecolor\":\"white\",\"ticks\":\"\"},\"caxis\":{\"gridcolor\":\"white\",\"linecolor\":\"white\",\"ticks\":\"\"}},\"coloraxis\":{\"colorbar\":{\"outlinewidth\":0,\"ticks\":\"\"}},\"colorscale\":{\"sequential\":[[0.0,\"#0d0887\"],[0.1111111111111111,\"#46039f\"],[0.2222222222222222,\"#7201a8\"],[0.3333333333333333,\"#9c179e\"],[0.4444444444444444,\"#bd3786\"],[0.5555555555555556,\"#d8576b\"],[0.6666666666666666,\"#ed7953\"],[0.7777777777777778,\"#fb9f3a\"],[0.8888888888888888,\"#fdca26\"],[1.0,\"#f0f921\"]],\"sequentialminus\":[[0.0,\"#0d0887\"],[0.1111111111111111,\"#46039f\"],[0.2222222222222222,\"#7201a8\"],[0.3333333333333333,\"#9c179e\"],[0.4444444444444444,\"#bd3786\"],[0.5555555555555556,\"#d8576b\"],[0.6666666666666666,\"#ed7953\"],[0.7777777777777778,\"#fb9f3a\"],[0.8888888888888888,\"#fdca26\"],[1.0,\"#f0f921\"]],\"diverging\":[[0,\"#8e0152\"],[0.1,\"#c51b7d\"],[0.2,\"#de77ae\"],[0.3,\"#f1b6da\"],[0.4,\"#fde0ef\"],[0.5,\"#f7f7f7\"],[0.6,\"#e6f5d0\"],[0.7,\"#b8e186\"],[0.8,\"#7fbc41\"],[0.9,\"#4d9221\"],[1,\"#276419\"]]},\"xaxis\":{\"gridcolor\":\"white\",\"linecolor\":\"white\",\"ticks\":\"\",\"title\":{\"standoff\":15},\"zerolinecolor\":\"white\",\"automargin\":true,\"zerolinewidth\":2},\"yaxis\":{\"gridcolor\":\"white\",\"linecolor\":\"white\",\"ticks\":\"\",\"title\":{\"standoff\":15},\"zerolinecolor\":\"white\",\"automargin\":true,\"zerolinewidth\":2},\"scene\":{\"xaxis\":{\"backgroundcolor\":\"#E5ECF6\",\"gridcolor\":\"white\",\"linecolor\":\"white\",\"showbackground\":true,\"ticks\":\"\",\"zerolinecolor\":\"white\",\"gridwidth\":2},\"yaxis\":{\"backgroundcolor\":\"#E5ECF6\",\"gridcolor\":\"white\",\"linecolor\":\"white\",\"showbackground\":true,\"ticks\":\"\",\"zerolinecolor\":\"white\",\"gridwidth\":2},\"zaxis\":{\"backgroundcolor\":\"#E5ECF6\",\"gridcolor\":\"white\",\"linecolor\":\"white\",\"showbackground\":true,\"ticks\":\"\",\"zerolinecolor\":\"white\",\"gridwidth\":2}},\"shapedefaults\":{\"line\":{\"color\":\"#2a3f5f\"}},\"annotationdefaults\":{\"arrowcolor\":\"#2a3f5f\",\"arrowhead\":0,\"arrowwidth\":1},\"geo\":{\"bgcolor\":\"white\",\"landcolor\":\"#E5ECF6\",\"subunitcolor\":\"white\",\"showland\":true,\"showlakes\":true,\"lakecolor\":\"white\"},\"title\":{\"x\":0.05},\"mapbox\":{\"style\":\"light\"}}}},                        {\"responsive\": true}                    ).then(function(){\n",
       "                            \n",
       "var gd = document.getElementById('6ada37bf-1dd0-422d-a1b6-f185a9de3920');\n",
       "var x = new MutationObserver(function (mutations, observer) {{\n",
       "        var display = window.getComputedStyle(gd).display;\n",
       "        if (!display || display === 'none') {{\n",
       "            console.log([gd, 'removed!']);\n",
       "            Plotly.purge(gd);\n",
       "            observer.disconnect();\n",
       "        }}\n",
       "}});\n",
       "\n",
       "// Listen for the removal of the full notebook cells\n",
       "var notebookContainer = gd.closest('#notebook-container');\n",
       "if (notebookContainer) {{\n",
       "    x.observe(notebookContainer, {childList: true});\n",
       "}}\n",
       "\n",
       "// Listen for the clearing of the current output cell\n",
       "var outputEl = gd.closest('.output');\n",
       "if (outputEl) {{\n",
       "    x.observe(outputEl, {childList: true});\n",
       "}}\n",
       "\n",
       "                        })                };                });            </script>        </div>"
      ]
     },
     "metadata": {},
     "output_type": "display_data"
    }
   ],
   "source": [
    "#import plotly.graph_objs as go\n",
    "\n",
    "x = ipl_data['BF'] # Balls Faced\n",
    "y = ipl_data['Runs'] # Runs Scored\n",
    "\n",
    "trace = go.Scatter(\n",
    "    x = x,\n",
    "    y = y,\n",
    "    mode = 'markers'\n",
    ")\n",
    "\n",
    "data = [trace]\n",
    "\n",
    "layout = go.Layout(\n",
    "    title = 'Runs Scored vs Balls Faced',\n",
    "    xaxis = dict(title = 'Balls Faced'),\n",
    "    yaxis = dict(title = 'Runs Scored')\n",
    ")\n",
    "\n",
    "fig = go.Figure(data=data, layout=layout)\n",
    "\n",
    "fig.show()"
   ]
  },
  {
   "cell_type": "markdown",
   "id": "eb24fad4",
   "metadata": {},
   "source": [
    "### Q17. KDE plot for averages on a season."
   ]
  },
  {
   "cell_type": "code",
   "execution_count": 25,
   "id": "9ad6df00",
   "metadata": {},
   "outputs": [
    {
     "data": {
      "text/plain": [
       "<AxesSubplot:xlabel='Avg', ylabel='Density'>"
      ]
     },
     "execution_count": 25,
     "metadata": {},
     "output_type": "execute_result"
    },
    {
     "data": {
      "image/png": "[encoded data removed]",
      "text/plain": [
       "<Figure size 640x480 with 1 Axes>"
      ]
     },
     "metadata": {},
     "output_type": "display_data"
    }
   ],
   "source": [
    "sns.distplot(ipl_data['Avg'],hist= False, color=\"orange\")"
   ]
  }
 ],
 "metadata": {
  "kernelspec": {
   "display_name": "Python 3 (ipykernel)",
   "language": "python",
   "name": "python3"
  },
  "language_info": {
   "codemirror_mode": {
    "name": "ipython",
    "version": 3
   },
   "file_extension": ".py",
   "mimetype": "text/x-python",
   "name": "python",
   "nbconvert_exporter": "python",
   "pygments_lexer": "ipython3",
   "version": "3.9.13"
  }
 },
 "nbformat": 4,
 "nbformat_minor": 5
}
